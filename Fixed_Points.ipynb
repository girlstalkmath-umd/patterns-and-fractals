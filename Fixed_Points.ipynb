{
  "nbformat": 4,
  "nbformat_minor": 0,
  "metadata": {
    "colab": {
      "name": "Fixed Points.ipynb",
      "provenance": [],
      "include_colab_link": true
    },
    "kernelspec": {
      "display_name": "Python 3",
      "language": "python",
      "name": "python3"
    },
    "language_info": {
      "codemirror_mode": {
        "name": "ipython",
        "version": 3
      },
      "file_extension": ".py",
      "mimetype": "text/x-python",
      "name": "python",
      "nbconvert_exporter": "python",
      "pygments_lexer": "ipython3",
      "version": "3.7.3"
    }
  },
  "cells": [
    {
      "cell_type": "markdown",
      "metadata": {
        "id": "view-in-github",
        "colab_type": "text"
      },
      "source": [
        "<a href=\"https://colab.research.google.com/github/girlstalkmath-umd/patterns-and-fractals/blob/master/Fixed_Points.ipynb\" target=\"_parent\"><img src=\"https://colab.research.google.com/assets/colab-badge.svg\" alt=\"Open In Colab\"/></a>"
      ]
    },
    {
      "cell_type": "markdown",
      "metadata": {
        "colab_type": "text",
        "id": "X8b8H_ATFQ7s"
      },
      "source": [
        "# Types of Orbits\n",
        "\n",
        "In the Iteration notebook you may have noticed with the quadratic function, $f(x) = x^2$, some initial conditions under iteration go off to infinity, some approach a constant value, and some other orbits bounce around and don’t seem to have any pattern.\n",
        "\n",
        "We say that the function $f(x)$ **converges** for certain initial condition $x$ if it approaches a constant valued fixed point. For other initial conditions, the sequence **diverges**, that is, to approach $-\\infty$ or $\\infty$. \n",
        "\n",
        "# Fixed Points\n",
        "For now, let's talk more about fixed points. A point $x_0$ is a fixed point for a function $f(x)$ if $f(x_0) = x_0$.\n",
        "So, in the example $f(x) = x^2$, 0 and 1 are both fixed points of $f$ since $f(0) = 0$ and $f(1) = 1$. We can classify fixed points as being attractive (stable) or repelling (unstable).\n",
        "\n",
        "# Exercise:\n",
        "* Try iterating points near 0 and 1 (but not exactly 1 or 0) for the function $x^2$. What seems to be happening for points near 0? Near 1? Between 0 and 1? \n",
        "\n",
        "You will likely have noticed that points near 0 get closer to 0 when we iterate but points close to 1 get farther and farther away from 1 when we iterate. For this reason, 0 is called an attractive fixed point for $f(x) = x^2$ and 1 is called a repulsive fixed point for $f$.\n"
      ]
    },
    {
      "cell_type": "code",
      "metadata": {
        "colab_type": "code",
        "id": "o5OXdmQPFQ7u",
        "colab": {}
      },
      "source": [
        "def f(x):\n",
        "\n",
        "    return x**2"
      ],
      "execution_count": null,
      "outputs": []
    },
    {
      "cell_type": "code",
      "metadata": {
        "colab_type": "code",
        "id": "ahwhcZ0UFQ7y",
        "colab": {}
      },
      "source": [
        "def nestList(func, x, number_of_iterations):\n",
        "    for i in range(number_of_iterations):\n",
        "        yield x\n",
        "        x = func(x)\n",
        "    yield x\n"
      ],
      "execution_count": null,
      "outputs": []
    },
    {
      "cell_type": "code",
      "metadata": {
        "colab_type": "code",
        "id": "rcbtrwM4FQ71",
        "colab": {}
      },
      "source": [
        "starting_point = 0.01\n",
        "\n",
        "number_of_iterations = 5\n",
        "\n",
        "func = f\n",
        "\n",
        "print(list(nestList(func, starting_point, number_of_iterations)))"
      ],
      "execution_count": null,
      "outputs": []
    },
    {
      "cell_type": "markdown",
      "metadata": {
        "colab_type": "text",
        "id": "ylnBfrFSFQ79"
      },
      "source": [
        "# Periodic Orbits\n",
        "Let’s look again at $f(x) = x^2-1$. What happens when we iterate using $x_0 = 0$? \n"
      ]
    },
    {
      "cell_type": "code",
      "metadata": {
        "colab_type": "code",
        "id": "54E_sPyRFQ7_",
        "colab": {}
      },
      "source": [
        "def g(x):\n",
        "    return x**2 -1"
      ],
      "execution_count": null,
      "outputs": []
    },
    {
      "cell_type": "code",
      "metadata": {
        "colab_type": "code",
        "id": "_TN0THaiFQ8E",
        "colab": {}
      },
      "source": [
        "starting_point = 0\n",
        "\n",
        "number_of_iterations = 10\n",
        "\n",
        "func = g\n",
        "\n",
        "print(list(nestList(func, starting_point, number_of_iterations)))"
      ],
      "execution_count": null,
      "outputs": []
    },
    {
      "cell_type": "markdown",
      "metadata": {
        "colab_type": "text",
        "id": "JJDWFaArFQ8N"
      },
      "source": [
        "You can see that we get the period-2 orbit $\\lbrace 0, -1, 0, -1, 0, -1, ...\\rbrace$. We can talk about periodic orbits as being attractive or repelling by considering what happens under iteration of values close to our fixed point.\n",
        "\n",
        "* Note: If you have seen Calculus, there is also a condition for determining attractive vs. repelling using the value of derivative of the function at the fixed point.\n",
        "\n",
        "As you may have noticed, we can find **attractive** fixed points by iterating forward for a significant number of iterations until we reach a single point (or a set of points that iterate in a pattern). **Repelling** fixed points can be found if we have an inverse and can iterate backwards until we get to a single point (or a set of points that iterate in a pattern). If its repelling when iterating forwards, it'll be attracting when iterating backwards (a.k.a iterating the inverse forwards) to some fixed point. In the case of the quadratic function, no inverse exists. Instead, we can use the solve command from a python package sympy."
      ]
    },
    {
      "cell_type": "markdown",
      "metadata": {
        "colab_type": "text",
        "id": "Vq3Whm9CFQ8Q"
      },
      "source": [
        "# Exercise:\n",
        "* For the example $f(x) = x^2-1/2$, Find the attractive fixed point by iteration.\n"
      ]
    },
    {
      "cell_type": "code",
      "metadata": {
        "colab_type": "code",
        "id": "YBPNz82RFQ8S",
        "colab": {}
      },
      "source": [
        "def f(x):\n",
        "    return x**2 - 0.5"
      ],
      "execution_count": null,
      "outputs": []
    },
    {
      "cell_type": "code",
      "metadata": {
        "colab_type": "code",
        "id": "JpuM81nLFQ8X",
        "colab": {}
      },
      "source": [
        "starting_point = 1\n",
        "\n",
        "number_of_iterations = 20\n",
        "\n",
        "func = f\n",
        "\n",
        "print(list(nestList(func, starting_point, number_of_iterations)))"
      ],
      "execution_count": null,
      "outputs": []
    },
    {
      "cell_type": "markdown",
      "metadata": {
        "id": "TKty4IsUCnzX",
        "colab_type": "text"
      },
      "source": [
        "Those are alot of numbers and they do seem to approach a value. An nicer way to look at this would be to plot the values with respect to the number of iterations. We import a matplotlib package which has tools to plot the values with respect to their iteration number."
      ]
    },
    {
      "cell_type": "code",
      "metadata": {
        "colab_type": "code",
        "id": "vL-t6k-JFQ8d",
        "colab": {}
      },
      "source": [
        "import matplotlib.pyplot as plt\n",
        "\n",
        "plt.plot(list(nestList(func, starting_point, number_of_iterations)))\n",
        "\n",
        "plt.xlabel(\"Iteration Number (k)\")\n",
        "\n",
        "plt.ylabel(\"f_k\")\n",
        "\n",
        "plt.show()"
      ],
      "execution_count": null,
      "outputs": []
    },
    {
      "cell_type": "markdown",
      "metadata": {
        "colab_type": "text",
        "id": "rrDpaz68FQ8k"
      },
      "source": [
        "This only gives us one fixed point. But python will allow us to symbolically solve for all fixed points using the solve package from sympy as follows. Note that we need to solve the equation:\n",
        "\n",
        "$f(x) = x$ \n",
        "\n",
        "Substituting in our function:\n",
        "\n",
        "$x^2-1/2 = x$\n",
        "\n",
        "Or equivalently,\n",
        "\n",
        "$x^2-1/2 - x = 0$\n",
        "\n",
        "The sympy solver only solves equations of the form $function(variable) = 0$, i.e., in the second form above.\n"
      ]
    },
    {
      "cell_type": "code",
      "metadata": {
        "colab_type": "code",
        "id": "detYehEpFQ8m",
        "colab": {}
      },
      "source": [
        "import sympy\n",
        "\n",
        "x = sympy.symbols('x')\n",
        "\n",
        "sympy.solve(x**2 - 0.5 - x)"
      ],
      "execution_count": null,
      "outputs": []
    },
    {
      "cell_type": "markdown",
      "metadata": {
        "colab_type": "text",
        "id": "NCIiuY63FQ8s"
      },
      "source": [
        "We talked about diverging and periodic orbits, but what about the points that don’t seem to follow any pattern at all? These points are exhibiting what we call chaotic behavior and will be categorized into the Julia set which we will define later.\n",
        "# Exercise:\n",
        "* Looking back at previous examples, can you determine where attractive, repulsive fixed points or periodic orbits are? What points diverged?\n"
      ]
    },
    {
      "cell_type": "markdown",
      "metadata": {
        "colab_type": "text",
        "id": "ONu4iQsNuQxJ"
      },
      "source": [
        "## Check Exercise 4\n",
        "Define the piecewise modulus function in the **Exercise 4**. To create a piecewise function, you will have to use an `if' statement. Review the tutorial for more information about the syntax. "
      ]
    },
    {
      "cell_type": "code",
      "metadata": {
        "colab_type": "code",
        "id": "I2D7RasduW51",
        "colab": {}
      },
      "source": [
        "def m(x):\n"
      ],
      "execution_count": null,
      "outputs": []
    },
    {
      "cell_type": "markdown",
      "metadata": {
        "colab_type": "text",
        "id": "2vfc1pZRuazc"
      },
      "source": [
        "Now, use this function to verify your periodic orbits by using nestList as done above. "
      ]
    },
    {
      "cell_type": "code",
      "metadata": {
        "colab_type": "code",
        "id": "wR-wu9PSuevh",
        "colab": {}
      },
      "source": [
        ""
      ],
      "execution_count": null,
      "outputs": []
    }
  ]
}