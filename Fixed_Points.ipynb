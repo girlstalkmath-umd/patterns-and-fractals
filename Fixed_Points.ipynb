{
 "cells": [
  {
   "cell_type": "markdown",
   "metadata": {
    "colab_type": "text",
    "id": "view-in-github"
   },
   "source": [
    "<a href=\"https://colab.research.google.com/github/girlstalkmath-umd/patterns-and-fractals/blob/master/Fixed_Points.ipynb\" target=\"_parent\"><img src=\"https://colab.research.google.com/assets/colab-badge.svg\" alt=\"Open In Colab\"/></a>"
   ]
  },
  {
   "cell_type": "markdown",
   "metadata": {
    "colab_type": "text",
    "id": "X8b8H_ATFQ7s"
   },
   "source": [
    "# Types of Orbits\n",
    "\n",
    "In the Iteration notebook you may have noticed with the quadratic function, $f(x) = x^2$, some initial conditions under iteration go off to infinity, some approach a constant value, and some other orbits bounce around and don’t seem to have any pattern.\n",
    "\n",
    "We say that the function $f(x)$ **converges** for certain initial condition $x$ if it approaches a constant valued fixed point. For other initial conditions, the sequence **diverges**, that is, to approach $-\\infty$ or $\\infty$. \n",
    "\n",
    "# Fixed Points\n",
    "For now, let's talk more about fixed points. A point $x_0$ is a fixed point for a function $f(x)$ if $f(x_0) = x_0$.\n",
    "So, in the example $f(x) = x^2$, 0 and 1 are both fixed points of $f$ since $f(0) = 0$ and $f(1) = 1$. We can classify fixed points as being attractive (stable) or repelling (unstable).\n",
    "\n",
    "# Exercise:\n",
    "* Try iterating points near 0 and 1 (but not exactly 1 or 0) for the function $x^2$. What seems to be happening for points near 0? Near 1? Between 0 and 1? \n",
    "\n",
    "You will likely have noticed that points near 0 get closer to 0 when we iterate but points close to 1 get farther and farther away from 1 when we iterate. For this reason, 0 is called an attractive fixed point for $f(x) = x^2$ and 1 is called a repulsive fixed point for $f$.\n"
   ]
  },
  {
   "cell_type": "code",
   "execution_count": 6,
   "metadata": {
    "colab": {},
    "colab_type": "code",
    "id": "o5OXdmQPFQ7u"
   },
   "outputs": [],
   "source": [
    "def f(x):\n",
    "\n",
    "    return x**2"
   ]
  },
  {
   "cell_type": "code",
   "execution_count": 7,
   "metadata": {
    "colab": {},
    "colab_type": "code",
    "id": "ahwhcZ0UFQ7y"
   },
   "outputs": [],
   "source": [
    "def nestList(func, x, number_of_iterations):\n",
    "    for i in range(number_of_iterations):\n",
    "        yield x\n",
    "        x = func(x)\n",
    "    yield x\n"
   ]
  },
  {
   "cell_type": "code",
   "execution_count": 8,
   "metadata": {
    "colab": {},
    "colab_type": "code",
    "id": "rcbtrwM4FQ71"
   },
   "outputs": [
    {
     "name": "stdout",
     "output_type": "stream",
     "text": [
      "[0.01, 0.0001, 1e-08, 1.0000000000000001e-16, 1.0000000000000002e-32, 1.0000000000000003e-64]\n"
     ]
    }
   ],
   "source": [
    "starting_point = 0.01\n",
    "\n",
    "number_of_iterations = 5\n",
    "\n",
    "func = f\n",
    "\n",
    "print(list(nestList(func, starting_point, number_of_iterations)))"
   ]
  },
  {
   "cell_type": "markdown",
   "metadata": {
    "colab_type": "text",
    "id": "ylnBfrFSFQ79"
   },
   "source": [
    "# Periodic Orbits\n",
    "Let’s look again at $f(x) = x^2-1$. What happens when we iterate using $x_0 = 0$? \n"
   ]
  },
  {
   "cell_type": "code",
   "execution_count": 9,
   "metadata": {
    "colab": {},
    "colab_type": "code",
    "id": "54E_sPyRFQ7_"
   },
   "outputs": [],
   "source": [
    "def g(x):\n",
    "    return x**2 -1"
   ]
  },
  {
   "cell_type": "code",
   "execution_count": 10,
   "metadata": {
    "colab": {},
    "colab_type": "code",
    "id": "_TN0THaiFQ8E"
   },
   "outputs": [
    {
     "name": "stdout",
     "output_type": "stream",
     "text": [
      "[0, -1, 0, -1, 0, -1, 0, -1, 0, -1, 0]\n"
     ]
    }
   ],
   "source": [
    "starting_point = 0\n",
    "\n",
    "number_of_iterations = 10\n",
    "\n",
    "func = g\n",
    "\n",
    "print(list(nestList(func, starting_point, number_of_iterations)))"
   ]
  },
  {
   "cell_type": "markdown",
   "metadata": {
    "colab_type": "text",
    "id": "JJDWFaArFQ8N"
   },
   "source": [
    "You can see that we get the period-2 orbit $\\lbrace 0, -1, 0, -1, 0, -1, ...\\rbrace$. We can talk about periodic orbits as being attractive or repelling by considering what happens under iteration of values close to our fixed point.\n",
    "\n",
    "* Note: If you have seen Calculus, there is also a condition for determining attractive vs. repelling using the value of derivative of the function at the fixed point.\n",
    "\n",
    "As you may have noticed, we can find attractive fixed points by iterating forward. Repelling fixed points can be found if we have an inverse and can iterate backwards ---if its repelling forward, it attracting backwards to some fixed point. In the case of the quadratic function, there no inverse exists. Instead, we can use the solve command from a python package sympy.\n"
   ]
  },
  {
   "cell_type": "markdown",
   "metadata": {
    "colab_type": "text",
    "id": "Vq3Whm9CFQ8Q"
   },
   "source": [
    "# Exercise:\n",
    "* For the example $f(x) = x^2-1/2$, Find the attractive fixed point by iteration.\n"
   ]
  },
  {
   "cell_type": "code",
   "execution_count": 11,
   "metadata": {
    "colab": {},
    "colab_type": "code",
    "id": "YBPNz82RFQ8S"
   },
   "outputs": [],
   "source": [
    "def f(x):\n",
    "    return x**2 - 0.5"
   ]
  },
  {
   "cell_type": "code",
   "execution_count": 14,
   "metadata": {
    "colab": {},
    "colab_type": "code",
    "id": "JpuM81nLFQ8X"
   },
   "outputs": [
    {
     "name": "stdout",
     "output_type": "stream",
     "text": [
      "[1, 0.5, -0.25, -0.4375, -0.30859375, -0.4047698974609375, -0.33616133010946214, -0.38699556013903724, -0.3502344364326728, -0.37733583953668803, -0.3576176642011428, -0.3721096062513186, -0.3615344409354886, -0.3692928480174637, -0.36362279240315043, -0.36777846484493537, -0.3647390007963026, -0.36696546129811475, -0.3653363502142618, -0.36652935121212227, -0.36565623470002073]\n"
     ]
    }
   ],
   "source": [
    "starting_point = 1\n",
    "\n",
    "number_of_iterations = 20\n",
    "\n",
    "func = f\n",
    "\n",
    "print(list(nestList(func, starting_point, number_of_iterations)))"
   ]
  },
  {
   "cell_type": "markdown",
   "metadata": {},
   "source": [
    "Those are alot of numbers and they do seem to approach a value. An nicer way to look at this would be to plot the values with respect to the number of iterations. We import a matplotlib package which has tools to plot the values with respect to their iteration number."
   ]
  },
  {
   "cell_type": "code",
   "execution_count": 16,
   "metadata": {
    "colab": {},
    "colab_type": "code",
    "id": "vL-t6k-JFQ8d"
   },
   "outputs": [
    {
     "data": {
      "image/png": "[encoded data removed]",
      "text/plain": [
       "<Figure size 432x288 with 1 Axes>"
      ]
     },
     "metadata": {
      "needs_background": "light"
     },
     "output_type": "display_data"
    }
   ],
   "source": [
    "import matplotlib.pyplot as plt\n",
    "\n",
    "plt.plot(list(nestList(func, starting_point, number_of_iterations)))\n",
    "\n",
    "plt.xlabel(\"Iteration Number (k)\")\n",
    "\n",
    "plt.ylabel(\"f_k\")\n",
    "\n",
    "plt.show()"
   ]
  },
  {
   "cell_type": "markdown",
   "metadata": {
    "colab_type": "text",
    "id": "rrDpaz68FQ8k"
   },
   "source": [
    "This only gives us one fixed point. But python will allow us to symbolically solve for all fixed points using the solve package from sympy as follows. Note that we need to solve the equation:\n",
    "\n",
    "$f(x) = x$ \n",
    "\n",
    "Substituting in our function:\n",
    "\n",
    "$x^2-1/2 = x$\n",
    "\n",
    "Or equivalently,\n",
    "\n",
    "$x^2-1/2 - x = 0$\n",
    "\n",
    "The sympy solver only solves equations of the form $function(variable) = 0$, i.e., in the second form above.\n"
   ]
  },
  {
   "cell_type": "code",
   "execution_count": 17,
   "metadata": {
    "colab": {},
    "colab_type": "code",
    "id": "detYehEpFQ8m"
   },
   "outputs": [
    {
     "data": {
      "text/plain": [
       "[-0.366025403784439, 1.36602540378444]"
      ]
     },
     "execution_count": 17,
     "metadata": {},
     "output_type": "execute_result"
    }
   ],
   "source": [
    "import sympy\n",
    "\n",
    "x = sympy.symbols('x')\n",
    "\n",
    "sympy.solve(x**2 - 0.5 - x)"
   ]
  },
  {
   "cell_type": "markdown",
   "metadata": {
    "colab_type": "text",
    "id": "NCIiuY63FQ8s"
   },
   "source": [
    "We talked about diverging and periodic orbits, but what about the points that don’t seem to follow any pattern at all? These points are exhibiting what we call chaotic behavior and will be categorized into the Julia set which we will define later.\n",
    "# Exercise:\n",
    "* Looking back at previous examples, can you determine where attractive, repulsive fixed points or periodic orbits are? What points diverged?\n"
   ]
  },
  {
   "cell_type": "markdown",
   "metadata": {
    "colab_type": "text",
    "id": "ONu4iQsNuQxJ"
   },
   "source": [
    "## Check Exercise 4\n",
    "Define the piecewise modulus function in the **Exercise 4**. To create a piecewise function, you will have to use an `if' statement. Review the tutorial for more information about the syntax. "
   ]
  },
  {
   "cell_type": "code",
   "execution_count": 0,
   "metadata": {
    "colab": {},
    "colab_type": "code",
    "id": "I2D7RasduW51"
   },
   "outputs": [],
   "source": [
    "def m(x):\n"
   ]
  },
  {
   "cell_type": "markdown",
   "metadata": {
    "colab_type": "text",
    "id": "2vfc1pZRuazc"
   },
   "source": [
    "Now, use this function to verify your periodic orbits by using nestList as done above. "
   ]
  },
  {
   "cell_type": "code",
   "execution_count": 0,
   "metadata": {
    "colab": {},
    "colab_type": "code",
    "id": "wR-wu9PSuevh"
   },
   "outputs": [],
   "source": []
  }
 ],
 "metadata": {
  "colab": {
   "include_colab_link": true,
   "name": "Fixed Points.ipynb",
   "provenance": [],
   "version": "0.3.2"
  },
  "kernelspec": {
   "display_name": "Python 3",
   "language": "python",
   "name": "python3"
  },
  "language_info": {
   "codemirror_mode": {
    "name": "ipython",
    "version": 3
   },
   "file_extension": ".py",
   "mimetype": "text/x-python",
   "name": "python",
   "nbconvert_exporter": "python",
   "pygments_lexer": "ipython3",
   "version": "3.7.3"
  }
 },
 "nbformat": 4,
 "nbformat_minor": 1
}
