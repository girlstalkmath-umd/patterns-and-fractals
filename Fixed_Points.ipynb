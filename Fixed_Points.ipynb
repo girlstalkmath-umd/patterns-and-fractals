{
  "nbformat": 4,
  "nbformat_minor": 0,
  "metadata": {
    "colab": {
      "name": "Fixed Points.ipynb",
      "version": "0.3.2",
      "provenance": [],
      "include_colab_link": true
    },
    "language_info": {
      "codemirror_mode": {
        "name": "ipython",
        "version": 3
      },
      "file_extension": ".py",
      "mimetype": "text/x-python",
      "name": "python",
      "nbconvert_exporter": "python",
      "pygments_lexer": "ipython3",
      "version": "3.7.3"
    },
    "kernelspec": {
      "display_name": "Python 3",
      "language": "python",
      "name": "python3"
    }
  },
  "cells": [
    {
      "cell_type": "markdown",
      "metadata": {
        "id": "view-in-github",
        "colab_type": "text"
      },
      "source": [
        "<a href=\"https://colab.research.google.com/github/girlstalkmath-umd/patterns-and-fractals/blob/master/Fixed_Points.ipynb\" target=\"_parent\"><img src=\"https://colab.research.google.com/assets/colab-badge.svg\" alt=\"Open In Colab\"/></a>"
      ]
    },
    {
      "cell_type": "markdown",
      "metadata": {
        "id": "X8b8H_ATFQ7s",
        "colab_type": "text"
      },
      "source": [
        "# Types of Orbits\n",
        "\n",
        "You may have noticed that under iteration, some points go off to infinity, some points under iteration go to what we call an attractive cycle and some other orbits bounce around and don’t seem to have any pattern.\n",
        "* For points that go off to infinity, we say the orbit diverges \n",
        "\n",
        "# Fixed Points\n",
        "For now, lets talk more about fixed points. A point $x_0$ is a fixed point for a function $f(x)$ if $f(x_0) = x_0$.\n",
        "So, in the example $f(x) = x^2$, 0 and 1 are both fixed points of $f$ since $f(0) = 0$ and $f(1) = 1$. We can classify fixed points as being attractive or repelling.\n",
        "\n",
        "# Exercise:\n",
        "* Try iterating points near 0 and 1 (but not exactly 1 or 0) for the function $x^2$. What seems to be happening for points near 0? Near 1?\n",
        "\n",
        "You will likely have noticed that points near 0 get closer to 0 when we iterate but points close to 1 get farther and farther away from 1 when we iterate. For this reason, 0 is called an attractive fixed point for $f(x) = x^2$ and 1 is called a repulsive fixed point for $f$.\n"
      ]
    },
    {
      "cell_type": "code",
      "metadata": {
        "id": "o5OXdmQPFQ7u",
        "colab_type": "code",
        "colab": {}
      },
      "source": [
        "def f(x):\n",
        "\n",
        "    return x**2"
      ],
      "execution_count": 0,
      "outputs": []
    },
    {
      "cell_type": "code",
      "metadata": {
        "id": "ahwhcZ0UFQ7y",
        "colab_type": "code",
        "colab": {}
      },
      "source": [
        "def nestList(func, x, number_of_iterations):\n",
        "    for i in range(number_of_iterations):\n",
        "        yield x\n",
        "        x = func(x)\n",
        "    yield x\n"
      ],
      "execution_count": 0,
      "outputs": []
    },
    {
      "cell_type": "code",
      "metadata": {
        "id": "rcbtrwM4FQ71",
        "colab_type": "code",
        "colab": {
          "base_uri": "https://localhost:8080/",
          "height": 34
        },
        "outputId": "e8021a63-7d7c-4b59-cb19-5c306c73adb8"
      },
      "source": [
        "starting_point = 0.01\n",
        "\n",
        "number_of_iterations = 5\n",
        "\n",
        "func = f\n",
        "\n",
        "print(list(nestList(func, starting_point, number_of_iterations)))"
      ],
      "execution_count": 3,
      "outputs": [
        {
          "output_type": "stream",
          "text": [
            "[0.01, 0.0001, 1e-08, 1.0000000000000001e-16, 1.0000000000000002e-32, 1.0000000000000003e-64]\n"
          ],
          "name": "stdout"
        }
      ]
    },
    {
      "cell_type": "markdown",
      "metadata": {
        "id": "ylnBfrFSFQ79",
        "colab_type": "text"
      },
      "source": [
        "# Periodic Orbits\n",
        "Let’s look again at $f(x) = x^2 −1$. What happens when we iterate using $x_0 = 0$? \n"
      ]
    },
    {
      "cell_type": "code",
      "metadata": {
        "id": "54E_sPyRFQ7_",
        "colab_type": "code",
        "colab": {}
      },
      "source": [
        "def g(x):\n",
        "    return x**2 -1"
      ],
      "execution_count": 0,
      "outputs": []
    },
    {
      "cell_type": "code",
      "metadata": {
        "id": "_TN0THaiFQ8E",
        "colab_type": "code",
        "colab": {
          "base_uri": "https://localhost:8080/",
          "height": 34
        },
        "outputId": "dbef8698-859a-4aa0-abbf-8f2303399a04"
      },
      "source": [
        "starting_point = 0\n",
        "\n",
        "number_of_iterations = 10\n",
        "\n",
        "func = g\n",
        "\n",
        "print(list(nestList(func, starting_point, number_of_iterations)))"
      ],
      "execution_count": 5,
      "outputs": [
        {
          "output_type": "stream",
          "text": [
            "[0, -1, 0, -1, 0, -1, 0, -1, 0, -1, 0]\n"
          ],
          "name": "stdout"
        }
      ]
    },
    {
      "cell_type": "markdown",
      "metadata": {
        "id": "JJDWFaArFQ8N",
        "colab_type": "text"
      },
      "source": [
        "You can see that we get the orbit $\\lbrace 0, −1, 0, −1, 0, −1, ...\\rbrace$. This is what we call a periodic orbit. That just means that the orbit bounces between some number of values. We would say that this orbit or cycle has period 2 because there are two values that the orbit bounces between. More rigorously, if we have points $x_1,x_2,x_3,...x_n$ where \n",
        "\n",
        "$f(x_1) = f(x_2)$, \n",
        "\n",
        "$f(x_2) = f(x_3)$, \n",
        "\n",
        "... \n",
        "\n",
        "$f(x_{n−1}) = f(x_n)$,\n",
        "\n",
        "$f(x_n) = f(x_1)$\n",
        "\n",
        "Then we say that $\\lbrace x_1, x_2, x_3, ...x_n\\rbrace$ is a cycle or orbit of period $n$. We can talk about periodic orbits as being attractive or repelling just like we can with fixed points by considering what happens under iteration of points close by."
      ]
    },
    {
      "cell_type": "markdown",
      "metadata": {
        "id": "KNwoaprLFQ8P",
        "colab_type": "text"
      },
      "source": [
        "* Note: If you have seen Calculus, there is also a condition for determining attractive vs. repelling using the value of derivative of the function at the fixed point.\n",
        "\n",
        "As you may have noticed, we can find attractive fixed points by iterating but repelling fixed points typically can’t be found this way. For this, we can use the solve command from sympy.\n"
      ]
    },
    {
      "cell_type": "markdown",
      "metadata": {
        "id": "Vq3Whm9CFQ8Q",
        "colab_type": "text"
      },
      "source": [
        "# Exercise:\n",
        "* For the example $f(x) = x^2 − 1/2$, Find the attractive fixed point by iteration.\n"
      ]
    },
    {
      "cell_type": "code",
      "metadata": {
        "id": "YBPNz82RFQ8S",
        "colab_type": "code",
        "colab": {}
      },
      "source": [
        "def f(x):\n",
        "    return x**2 - 0.5"
      ],
      "execution_count": 0,
      "outputs": []
    },
    {
      "cell_type": "code",
      "metadata": {
        "id": "JpuM81nLFQ8X",
        "colab_type": "code",
        "colab": {
          "base_uri": "https://localhost:8080/",
          "height": 54
        },
        "outputId": "cb0e8215-75a2-4b34-d7e0-491c77705e47"
      },
      "source": [
        "starting_point = 1\n",
        "\n",
        "number_of_iterations = 20\n",
        "\n",
        "func = f\n",
        "\n",
        "print(list(nestList(func, starting_point, number_of_iterations)))"
      ],
      "execution_count": 7,
      "outputs": [
        {
          "output_type": "stream",
          "text": [
            "[1, 0.5, -0.25, -0.4375, -0.30859375, -0.4047698974609375, -0.33616133010946214, -0.38699556013903724, -0.3502344364326728, -0.37733583953668803, -0.3576176642011428, -0.3721096062513186, -0.3615344409354886, -0.3692928480174637, -0.36362279240315043, -0.36777846484493537, -0.3647390007963026, -0.36696546129811475, -0.3653363502142618, -0.36652935121212227, -0.36565623470002073]\n"
          ],
          "name": "stdout"
        }
      ]
    },
    {
      "cell_type": "code",
      "metadata": {
        "id": "vL-t6k-JFQ8d",
        "colab_type": "code",
        "colab": {
          "base_uri": "https://localhost:8080/",
          "height": 283
        },
        "outputId": "75d31bc7-45bf-47b0-89bf-87036d96159d"
      },
      "source": [
        "import matplotlib.pyplot as plt\n",
        "\n",
        "plt.plot(list(nestList(func, starting_point, number_of_iterations)))\n",
        "\n",
        "plt.xlabel(\"Iteration Number (k)\")\n",
        "\n",
        "plt.ylabel(\"f_k\")\n",
        "\n",
        "plt.show()"
      ],
      "execution_count": 8,
      "outputs": [
        {
          "output_type": "display_data",
          "data": {
            "image/png": "[encoded data removed]",
            "text/plain": [
              "<Figure size 432x288 with 1 Axes>"
            ]
          },
          "metadata": {
            "tags": []
          }
        }
      ]
    },
    {
      "cell_type": "markdown",
      "metadata": {
        "id": "rrDpaz68FQ8k",
        "colab_type": "text"
      },
      "source": [
        "This only gives us one fixed point. But python will allow us to symbolically solve for all fixed points using the solve package from sympy as follows. Note that we need to solve the equation:\n",
        "\n",
        "$x^2 - 1/2 = x$\n",
        "\n",
        "Or equivalently,\n",
        "\n",
        "$x^2 - 1/2 - x = 0$\n",
        "\n",
        "The sympy solver only solves equations of the form $function(variable) = 0$, i.e., in the second form above.\n"
      ]
    },
    {
      "cell_type": "code",
      "metadata": {
        "id": "detYehEpFQ8m",
        "colab_type": "code",
        "colab": {},
        "outputId": "5538cb77-0dc3-423e-8f57-5819109534a5"
      },
      "source": [
        "import sympy\n",
        "\n",
        "x = sympy.symbols('x')\n",
        "\n",
        "sympy.solve(x**2 - 0.5 - x)"
      ],
      "execution_count": 0,
      "outputs": [
        {
          "output_type": "execute_result",
          "data": {
            "text/plain": [
              "[-0.366025403784439, 1.36602540378444]"
            ]
          },
          "metadata": {
            "tags": []
          },
          "execution_count": 26
        }
      ]
    },
    {
      "cell_type": "markdown",
      "metadata": {
        "id": "NCIiuY63FQ8s",
        "colab_type": "text"
      },
      "source": [
        "We talked about diverging and periodic orbits, but what about the points that don’t seem to follow any pattern at all? These points are exhibiting what we call chaotic behavior and will be in the Julia set which we will define later.\n",
        "# Exercise:\n",
        "* Looking back at previous examples, can you determine where attractive, repulsive fixed points or periodic orbits are? What points diverged?\n"
      ]
    },
    {
      "cell_type": "code",
      "metadata": {
        "id": "64DzX_UqFQ8u",
        "colab_type": "code",
        "colab": {}
      },
      "source": [
        ""
      ],
      "execution_count": 0,
      "outputs": []
    }
  ]
}