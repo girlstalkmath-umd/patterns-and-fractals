{
  "nbformat": 4,
  "nbformat_minor": 0,
  "metadata": {
    "colab": {
      "name": "Bifurcation_Diagrams.ipynb",
      "provenance": [],
      "collapsed_sections": [],
      "authorship_tag": "ABX9TyP8ERXl1b2mH0Qvr2TAdct4",
      "include_colab_link": true
    },
    "kernelspec": {
      "name": "python3",
      "display_name": "Python 3"
    }
  },
  "cells": [
    {
      "cell_type": "markdown",
      "metadata": {
        "id": "view-in-github",
        "colab_type": "text"
      },
      "source": [
        "<a href=\"https://colab.research.google.com/github/girlstalkmath-umd/patterns-and-fractals/blob/master/Bifurcation_Diagrams.ipynb\" target=\"_parent\"><img src=\"https://colab.research.google.com/assets/colab-badge.svg\" alt=\"Open In Colab\"/></a>"
      ]
    },
    {
      "cell_type": "markdown",
      "metadata": {
        "id": "YNIlLiRbD51K",
        "colab_type": "text"
      },
      "source": [
        "#Bifurcation Diagrams\n",
        "\n",
        "This is a diagram used to explore the patterns in the logistic map\n",
        "$$f(x) = r x (x-1)$$\n",
        "by changing the parameter $r$ and plotting the final iteration over a sample of random initial conditions between 0 and 1. By looking at the last iterations over many initial conditions, we are able to visualize, regions of the parameter $r$ where there are periodic orbits and chaos.\n",
        "\n",
        "Run the code below. "
      ]
    },
    {
      "cell_type": "code",
      "metadata": {
        "id": "VwJPyHRyD4oM",
        "colab_type": "code",
        "colab": {}
      },
      "source": [
        "import pylab as pl\n",
        "import matplotlib.pyplot as plt\n",
        "\n",
        "def f(x, r):\n",
        "    return r*x*(1-x)\n",
        "    \n",
        "nmax = 1000\n",
        "r = np.linspace(2.5, 4.0, 10000)\n",
        "sample = 40\n",
        "for idx in range(sample):\n",
        "  x = pl.uniform(0,1)\n",
        "  for n in range(nmax):\n",
        "    x = f(x, r)\n",
        "    # plot last iteration\n",
        "    if n == (nmax - 1):\n",
        "        plt.plot(r, x, ',b', alpha=.25)\n",
        "plt.xlim(2.5, 4)\n",
        "plt.xlabel('r')\n",
        "plt.ylabel('last iteration')\n",
        "plt.title(\"Bifurcation diagram\")"
      ],
      "execution_count": 0,
      "outputs": []
    },
    {
      "cell_type": "markdown",
      "metadata": {
        "id": "o0gCbXtvy12G",
        "colab_type": "text"
      },
      "source": [
        "Change the 'xlim' in the code above to zoom in on some of the patterns you observe in the Cobwebs Plots exercise. You can also change, nmax (how long the logistic map iterates) and sample (how many intial conditions to start with). "
      ]
    }
  ]
}