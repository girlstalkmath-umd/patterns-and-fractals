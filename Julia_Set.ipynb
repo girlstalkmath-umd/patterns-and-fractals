{
  "nbformat": 4,
  "nbformat_minor": 0,
  "metadata": {
    "colab": {
      "name": "Julia Set.ipynb",
      "version": "0.3.2",
      "provenance": [],
      "collapsed_sections": [],
      "include_colab_link": true
    },
    "language_info": {
      "codemirror_mode": {
        "name": "ipython",
        "version": 3
      },
      "file_extension": ".py",
      "mimetype": "text/x-python",
      "name": "python",
      "nbconvert_exporter": "python",
      "pygments_lexer": "ipython3",
      "version": "3.7.3"
    },
    "kernelspec": {
      "display_name": "Python 3",
      "language": "python",
      "name": "python3"
    }
  },
  "cells": [
    {
      "cell_type": "markdown",
      "metadata": {
        "id": "view-in-github",
        "colab_type": "text"
      },
      "source": [
        "<a href=\"https://colab.research.google.com/github/girlstalkmath-umd/patterns-and-fractals/blob/master/Julia_Set.ipynb\" target=\"_parent\"><img src=\"https://colab.research.google.com/assets/colab-badge.svg\" alt=\"Open In Colab\"/></a>"
      ]
    },
    {
      "cell_type": "markdown",
      "metadata": {
        "id": "SN28y57xGC88",
        "colab_type": "text"
      },
      "source": [
        "# Julia Set\n",
        "\n",
        "If we iterate a function, $f(z)$ from some starting point, $z_0$ one of the following must happen:\n",
        "\n",
        "* The orbit initializing at $z_0$ diverges (goes towards infinity),\n",
        "* The orbit initializing at $z_0$ stays bounded.\n",
        "\n",
        "We will define the Filled Julia set as the set of initial complex numbers whose orbits stay bounded under iteration and the Julia set is the set is the boundary of the filled Julia set. \n",
        "\n",
        "For example when $c=0$ the function is $f(z) = z^2$ and the filled Julia set is the unit disk (so all complex numbers whose norm is less than or equal to 1) and the Julia set is the unit circle (the set of all complex numbers with norm equal to 1). The interior of this unit circle has iterations that approach 0 whereas the exterior has iterations that diverge to $\\infty$.\n",
        "\n",
        "There are infinitly values of $c$ to choose so there are infinitely many families of Julia sets.  \n",
        "\n",
        "A property of the family $z^2+c$ is that if $|z|\\geq|c|$ and $|z| > 2$ then the orbit of $z$ will diverge. We can use this for an algorithm to plot the Julia set! We choose a rectangular grid of complex numbers to be out initial coniditions. Then iterate from each until either \n",
        "* the absolute value of the iterate gets bigger than the max of 2 and $|c|$ and color the starting point according to how quickly this happened or \n",
        "* we reach some specified stopping number and color the point black.\n",
        "\n",
        "Let us try to write the code to find the Julia Set of $z^2+c$ one step at a time."
      ]
    },
    {
      "cell_type": "markdown",
      "metadata": {
        "id": "Zjlz48cgGC8-",
        "colab_type": "text"
      },
      "source": [
        "First, we will import some python libraries that we expect we will need. Go ahead and google \"numpy\" and \"matplotlib\" and try to figure out what these libraries do."
      ]
    },
    {
      "cell_type": "code",
      "metadata": {
        "id": "j8ltX-jKGC8_",
        "colab_type": "code",
        "colab": {}
      },
      "source": [
        "import numpy as np\n",
        "import matplotlib.pyplot as plt\n",
        "import matplotlib.cm as cm"
      ],
      "execution_count": 0,
      "outputs": []
    },
    {
      "cell_type": "markdown",
      "metadata": {
        "id": "A7lOJqVpGC9D",
        "colab_type": "text"
      },
      "source": [
        "Now let us define the size of the domain (i.e. the rectangular grid)  over which we want to find the Julia Set using two parameters, im_width and im_height (the width and the height of the rectangular domain for our Julia Set)."
      ]
    },
    {
      "cell_type": "code",
      "metadata": {
        "id": "iepFmyE2GC9E",
        "colab_type": "code",
        "colab": {}
      },
      "source": [
        "# Image width and height; parameters for the plot\n",
        "im_width, im_height = 1000, 1000"
      ],
      "execution_count": 0,
      "outputs": []
    },
    {
      "cell_type": "markdown",
      "metadata": {
        "id": "E5kYGsKPGC9G",
        "colab_type": "text"
      },
      "source": [
        "The parameter $c$ for the Julia set. Set the parameter $c$ to the complex number $c = -0.1 + 0.65i$"
      ]
    },
    {
      "cell_type": "code",
      "metadata": {
        "id": "88lmiIy2GC9H",
        "colab_type": "code",
        "colab": {}
      },
      "source": [
        "c = # set the value of c"
      ],
      "execution_count": 0,
      "outputs": []
    },
    {
      "cell_type": "markdown",
      "metadata": {
        "id": "T3uMWhQmGC9J",
        "colab_type": "text"
      },
      "source": [
        "Some more parameters that you should try to understand using the comments:"
      ]
    },
    {
      "cell_type": "code",
      "metadata": {
        "id": "R0IEttLtGC9K",
        "colab_type": "code",
        "colab": {}
      },
      "source": [
        "zabs_max = 10  # if z crosses zabs_max, we call this the bailout condition and color the point black.\n",
        "nit_max = 1000 # maximum number of iterations\n",
        "xmin, xmax = -1.5, 1.5 # x limits of our domain in the complex plane\n",
        "xwidth = xmax - xmin # width of our domain in the complex plane\n",
        "ymin, ymax = -1.5, 1.5 # y limits of our domain in the complex plane\n",
        "yheight = ymax - ymin # height of our domain in the complex plane"
      ],
      "execution_count": 0,
      "outputs": []
    },
    {
      "cell_type": "markdown",
      "metadata": {
        "id": "PuEkJqfDNgCB",
        "colab_type": "text"
      },
      "source": [
        "### Important: In the next block of code, you should add the function $z = z^2+c$ to iterate the numbers. Do this, then run the plotting cell below to view your Julia set."
      ]
    },
    {
      "cell_type": "code",
      "metadata": {
        "id": "RiDLFfKhGC9M",
        "colab_type": "code",
        "colab": {}
      },
      "source": [
        "julia = np.zeros((im_width, im_height))\n",
        "\n",
        "for ix in range(im_width):\n",
        "    for iy in range(im_height):\n",
        "        nit = 0\n",
        "        # Map pixel position to a point in the complex plane\n",
        "        z = complex(ix / im_width * xwidth + xmin,\n",
        "                    iy / im_height * yheight + ymin)\n",
        "        # Do the iterations\n",
        "        while abs(z) <= zabs_max and nit < nit_max:\n",
        "            # do the iteration (z = z**2 + c)\n",
        "            nit += 1\n",
        "        ratio = nit / nit_max\n",
        "        julia[ix,iy] = ratio"
      ],
      "execution_count": 0,
      "outputs": []
    },
    {
      "cell_type": "code",
      "metadata": {
        "id": "in8IUNsOGC9P",
        "colab_type": "code",
        "colab": {}
      },
      "source": [
        "%matplotlib inline\n",
        "plt.rcParams['figure.figsize'] = [20, 20]\n",
        "plt.imshow(julia, interpolation='nearest', cmap=cm.hot)\n",
        "# Set the tick labels to the coordinates of z0 in the complex plane\n",
        "plt.show()"
      ],
      "execution_count": 0,
      "outputs": []
    },
    {
      "cell_type": "markdown",
      "metadata": {
        "id": "diWXXIKrGC9R",
        "colab_type": "text"
      },
      "source": [
        "As a bonus, fun exercise, generate the Julia set for the following values of $c$\n",
        "\n",
        "* 0.79 + 1.5i\n",
        "* 0.162 + 1.04i\n",
        "* 0.3 - 0.01i\n",
        "* -1.476 + 0i\n",
        "* -0.12 - 0.77i\n",
        "* 0.28 + 0.008i\n",
        "* −0.8i\n",
        "\n",
        "To make this easier, let us define a function JuliaSet which takes in $c$ as an argument and plots the Julia Set for that value of $c$"
      ]
    },
    {
      "cell_type": "code",
      "metadata": {
        "id": "cU_tdGb_GC9S",
        "colab_type": "code",
        "colab": {}
      },
      "source": [
        "def JuliaSet(c):\n",
        "    \n",
        "    im_width, im_height = 2000, 2000\n",
        "    zabs_max = 10  # if z crosses zabs_max, we call this the bailout condition and color the point black.\n",
        "    nit_max = 1000 # maximum number of iterations\n",
        "    xmin, xmax = -1.5, 1.5 # x limits of our domain in the complex plane\n",
        "    xwidth = xmax - xmin # width of our domain in the complex plane\n",
        "    ymin, ymax = -1.5, 1.5 # y limits of our domain in the complex plane\n",
        "    yheight = ymax - ymin # height of our domain in the complex plane\n",
        "\n",
        "\n",
        "    julia = np.zeros((im_width, im_height))\n",
        "\n",
        "    for ix in range(im_width):\n",
        "        for iy in range(im_height):\n",
        "            nit = 0\n",
        "            # Map pixel position to a point in the complex plane\n",
        "            z = complex(ix / im_width * xwidth + xmin,\n",
        "                        iy / im_height * yheight + ymin)\n",
        "            # Do the iterations\n",
        "            while abs(z) <= zabs_max and nit < nit_max:\n",
        "                z = z**2 + c\n",
        "                nit += 1\n",
        "            ratio = nit / nit_max\n",
        "            julia[ix,iy] = ratio\n",
        "    \n",
        "    return(julia)"
      ],
      "execution_count": 0,
      "outputs": []
    },
    {
      "cell_type": "code",
      "metadata": {
        "id": "SgYkjk17GC9W",
        "colab_type": "code",
        "colab": {}
      },
      "source": [
        "julia = JuliaSet(complex(0.28, 0.008))"
      ],
      "execution_count": 0,
      "outputs": []
    },
    {
      "cell_type": "code",
      "metadata": {
        "id": "ThWhqnj_GC9a",
        "colab_type": "code",
        "colab": {}
      },
      "source": [
        "%matplotlib inline\n",
        "plt.rcParams['figure.figsize'] = [20, 20]\n",
        "plt.imshow(julia, interpolation='nearest', cmap=cm.hot)\n",
        "# Set the tick labels to the coordinates of z0 in the complex plane\n",
        "plt.show()"
      ],
      "execution_count": 0,
      "outputs": []
    }
  ]
}