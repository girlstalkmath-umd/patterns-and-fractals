{
  "nbformat": 4,
  "nbformat_minor": 0,
  "metadata": {
    "colab": {
      "name": "Julia Set.ipynb",
      "provenance": [],
      "collapsed_sections": [],
      "include_colab_link": true
    },
    "language_info": {
      "codemirror_mode": {
        "name": "ipython",
        "version": 3
      },
      "file_extension": ".py",
      "mimetype": "text/x-python",
      "name": "python",
      "nbconvert_exporter": "python",
      "pygments_lexer": "ipython3",
      "version": "3.7.3"
    },
    "kernelspec": {
      "display_name": "Python 3",
      "language": "python",
      "name": "python3"
    }
  },
  "cells": [
    {
      "cell_type": "markdown",
      "metadata": {
        "id": "view-in-github",
        "colab_type": "text"
      },
      "source": [
        "<a href=\"https://colab.research.google.com/github/girlstalkmath-umd/patterns-and-fractals/blob/master/Julia_Set.ipynb\" target=\"_parent\"><img src=\"https://colab.research.google.com/assets/colab-badge.svg\" alt=\"Open In Colab\"/></a>"
      ]
    },
    {
      "cell_type": "markdown",
      "metadata": {
        "id": "SN28y57xGC88",
        "colab_type": "text"
      },
      "source": [
        "# Julia Set\n",
        "\n",
        "If we iterate a function, $f(z)$ from some starting point, $z_0$ one of the following must happen:\n",
        "\n",
        "* the orbit initializing at $z_0$ diverges (goes towards infinity), or\n",
        "* the orbit initializing at $z_0$ stays bounded under iteration.\n",
        "\n",
        "We will define the Filled Julia set as the set of initial complex numbers whose orbits stay bounded under iteration and the Julia set is the set is the boundary of the filled Julia set. \n",
        "\n",
        "The simplest Julia set is if we choose $c=0$ and iterate the function, \n",
        "$$f(z) = z^2$$ \n",
        "and the filled Julia set is the unit disk (so all complex numbers whose norm is less than or equal to 1) and the Julia set is the unit circle (the set of all complex numbers with norm equal to 1). The interior of this unit circle has iterations that approach 0 whereas the exterior has iterations that diverge to $\\infty$.\n",
        "\n",
        "**There are infinitly values of $c$ to choose so there are infinitely many families of Julia sets.**\n",
        "\n",
        "A property of the family $f(z) = z^2+c$ is that if $|z|\\geq|c|$ and $|z| > 2$ then the orbit of $z$ will diverge (derivation omitted). We can use this for an algorithm to plot the Julia set. Limit the range of initial conditions $z_0$ we iterate.  We choose a rectangular grid of complex numbers to be our initial coniditions. Then iterate from each until either \n",
        "* the absolute value of the iterate gets bigger than the max of 2 and $|c|$. The starting point is then colored on a scale based on the number of iterates it took to reach that point (lighter for more iterates), or\n",
        "* we reach some specified stopping number and color the point black.\n",
        "\n",
        "Let us try to write the code to find the Julia Set of $z^2+c$ one step at a time."
      ]
    },
    {
      "cell_type": "markdown",
      "metadata": {
        "id": "Zjlz48cgGC8-",
        "colab_type": "text"
      },
      "source": [
        "First, we will import some python libraries that we expect we will need. Go ahead and google \"numpy\" and \"matplotlib\" and try to figure out what these libraries do."
      ]
    },
    {
      "cell_type": "code",
      "metadata": {
        "id": "j8ltX-jKGC8_",
        "colab_type": "code",
        "colab": {}
      },
      "source": [
        "import numpy as np\n",
        "import matplotlib.pyplot as plt\n",
        "import matplotlib.cm as cm"
      ],
      "execution_count": 0,
      "outputs": []
    },
    {
      "cell_type": "markdown",
      "metadata": {
        "id": "A7lOJqVpGC9D",
        "colab_type": "text"
      },
      "source": [
        "Now let us define the size of the domain (i.e. the rectangular grid)  over which we want to find the Julia Set using two parameters, im_width and im_height (the width and the height of the rectangular domain for our Julia Set). "
      ]
    },
    {
      "cell_type": "code",
      "metadata": {
        "id": "iepFmyE2GC9E",
        "colab_type": "code",
        "colab": {}
      },
      "source": [
        "# Image width and height; parameters for the plot\n",
        "im_width, im_height = 1000, 1000"
      ],
      "execution_count": 0,
      "outputs": []
    },
    {
      "cell_type": "markdown",
      "metadata": {
        "id": "E5kYGsKPGC9G",
        "colab_type": "text"
      },
      "source": [
        "The parameter $c$ for the Julia set. Set the parameter $c$ to the complex number $c = -0.1 + 0.65i$"
      ]
    },
    {
      "cell_type": "code",
      "metadata": {
        "id": "88lmiIy2GC9H",
        "colab_type": "code",
        "colab": {}
      },
      "source": [
        "c = complex(-0.1,0.65) # set the value of c"
      ],
      "execution_count": 0,
      "outputs": []
    },
    {
      "cell_type": "markdown",
      "metadata": {
        "id": "T3uMWhQmGC9J",
        "colab_type": "text"
      },
      "source": [
        "Some more parameters that you should try to understand using the comments:"
      ]
    },
    {
      "cell_type": "code",
      "metadata": {
        "id": "R0IEttLtGC9K",
        "colab_type": "code",
        "colab": {}
      },
      "source": [
        "#Keep this slightly larger than |c| and 2 \n",
        "nit_max = 1000 # maximum number of iterations\n",
        "boundary = max(abs(c),2) #the domain but focus on |c|≥|𝑧| or 2>|𝑧| (which ever is larger), \n",
        "# if z crosses boundary, we call this the bailout condition and color the point black.\n",
        "xmin, xmax = -2, 2 # x limits of our domain in the complex plane, you can change the domain but focus on |c|≥|𝑧| and |𝑧|>2 at first\n",
        "xwidth = xmax - xmin # width of our domain in the complex plane\n",
        "ymin, ymax = -2, 2 # y limits of our domain in the complex plane\n",
        "yheight = ymax - ymin # height of our domain in the complex plane"
      ],
      "execution_count": 0,
      "outputs": []
    },
    {
      "cell_type": "markdown",
      "metadata": {
        "id": "PuEkJqfDNgCB",
        "colab_type": "text"
      },
      "source": [
        "### Important: In the next block of code, you should add the function $z = z^2+c$ to iterate the numbers. Do this, then run the plotting cell below to view your Julia set."
      ]
    },
    {
      "cell_type": "code",
      "metadata": {
        "id": "RiDLFfKhGC9M",
        "colab_type": "code",
        "colab": {}
      },
      "source": [
        "julia = np.zeros((im_width, im_height))\n",
        "\n",
        "for ix in range(im_width):\n",
        "    for iy in range(im_height):\n",
        "        nit = 0\n",
        "        # Map pixel position to a point in the complex plane\n",
        "        z = complex(ix / im_width * xwidth + xmin,\n",
        "                    iy / im_height * yheight + ymin)\n",
        "        # Do the iterations, does it diverge?\n",
        "        while abs(z) <= boundary and nit < nit_max:\n",
        "            # do the iteration (z = z**2 + c)\n",
        "            nit += 1\n",
        "        ratio = nit / nit_max\n",
        "        julia[ix,iy] = ratio"
      ],
      "execution_count": 0,
      "outputs": []
    },
    {
      "cell_type": "code",
      "metadata": {
        "id": "in8IUNsOGC9P",
        "colab_type": "code",
        "colab": {}
      },
      "source": [
        "%matplotlib inline\n",
        "plt.rcParams['figure.figsize'] = [20, 20]\n",
        "plt.imshow(julia, interpolation='nearest', cmap=cm.hot, extent = [xmin , xmax, ymin , ymax])\n",
        "plt.xlabel('Re(z)')\n",
        "plt.ylabel('Im(z)')\n",
        "# Set the tick labels to the coordinates of z0 in the complex plane\n",
        "plt.show()"
      ],
      "execution_count": 0,
      "outputs": []
    },
    {
      "cell_type": "markdown",
      "metadata": {
        "id": "UjHRnM82QOrQ",
        "colab_type": "text"
      },
      "source": [
        "We can check out a specific initial condition and how it iterates until it is categorized and colored. In the code below, change the initial value, the number of iterates (try 500, too), and the time.sleep value (to control the animation pause). If we pick a value that is close to 0, is it true that it will stay bounded until the dropout? See if you can find points by looking at the fractal pattern produced above and predict their behavoir before testing it. It will be most challenging to predict the behavior of a point on the Julia set (the boundary) rather than the fill portion. Why is this?"
      ]
    },
    {
      "cell_type": "code",
      "metadata": {
        "id": "L8iPB4qCQOOe",
        "colab_type": "code",
        "colab": {}
      },
      "source": [
        "import time\n",
        "import pylab as pl\n",
        "from IPython import display\n",
        "\n",
        "nit_max = 1000\n",
        "z = complex(0.3,0.1) #change initial condition here\n",
        "boundary = max(abs(c),2)\n",
        "boundary_circle = plt.Circle((0, 0), boundary, color='k', fill=False)\n",
        "\n",
        "ax = plt.gca()\n",
        "ax.set_xlim((-2.5, 2.5))\n",
        "ax.set_ylim((-2.5, 2.5))\n",
        "ax.add_artist(boundary_circle)\n",
        "\n",
        "# Do the iterations, does it diverge?\n",
        "while abs(z) <= boundary and nit < nit_max:\n",
        "  # do the iteration (z = z**2 + c)\n",
        "    z = z**2 + c\n",
        "    nit += 1\n",
        "    ratio = nit / nit_max\n",
        "    color_pt = pl.cm.hot(ratio)\n",
        "    print(ratio)\n",
        "    ax.plot(z.imag,z.real,'o', color=color_pt)\n",
        "    display.clear_output(wait=True)\n",
        "    display.display(pl.gcf()) \n",
        "    time.sleep(1) #adjust how fast it animates\n",
        "    #you can comment this out too by placing a '#' in front, though the plot can only update so fast \n"
      ],
      "execution_count": 0,
      "outputs": []
    },
    {
      "cell_type": "markdown",
      "metadata": {
        "id": "diWXXIKrGC9R",
        "colab_type": "text"
      },
      "source": [
        "As a bonus, fun exercise, generate the Julia set for the following values of $c$\n",
        "\n",
        "* 0.79 + 1.5i\n",
        "* 0.162 + 1.04i\n",
        "* 0.3 - 0.01i\n",
        "* -1.476 + 0i\n",
        "* -0.12 - 0.77i\n",
        "* 0.28 + 0.008i\n",
        "* −0.8i\n",
        "* 0 (The unit circle)\n",
        "* -2 (Fatou domain)\n",
        "\n",
        "To make this easier, let us define a function JuliaSet which takes in $c$ as an input and plots the Julia Set for that value of $c$"
      ]
    },
    {
      "cell_type": "code",
      "metadata": {
        "id": "cU_tdGb_GC9S",
        "colab_type": "code",
        "colab": {}
      },
      "source": [
        "def JuliaSet(c):\n",
        "    \n",
        "    im_width, im_height = 2000, 2000\n",
        "    boundary = 10 #max(abs(c),2) #the domain but focus on |c|≥|𝑧| or 2>|𝑧| (which ever is larger), \n",
        "    # if z crosses boundary, we call this the bailout condition and color the point black.\n",
        "    # this isn't a strict boundary, you could change this values to 10 and you'd get the same answer. \n",
        "    nit_max = 1000 # maximum number of iterations\n",
        "    xmin, xmax = -boundary, boundary # x limits of our domain in the complex plane\n",
        "    xwidth = xmax - xmin # width of our domain in the complex plane\n",
        "    ymin, ymax = -boundary, boundary # y limits of our domain in the complex plane\n",
        "    yheight = ymax - ymin # height of our domain in the complex plane\n",
        "\n",
        "\n",
        "    julia = np.zeros((im_width, im_height))\n",
        "\n",
        "    for ix in range(im_width):\n",
        "        for iy in range(im_height):\n",
        "            nit = 0\n",
        "            # Map pixel position to a point in the complex plane\n",
        "            z = complex(ix / im_width * xwidth + xmin,\n",
        "                        iy / im_height * yheight + ymin)\n",
        "            # Do the iterations\n",
        "            while abs(z) <= boundary and nit < nit_max:\n",
        "                z = z**2 + c\n",
        "                nit += 1\n",
        "            ratio = nit / nit_max\n",
        "            julia[ix,iy] = ratio\n",
        "    \n",
        "    return(julia)"
      ],
      "execution_count": 0,
      "outputs": []
    },
    {
      "cell_type": "markdown",
      "metadata": {
        "id": "DjbnevGNZhEu",
        "colab_type": "text"
      },
      "source": [
        "Run the function giving it a value of $c$ as an input."
      ]
    },
    {
      "cell_type": "code",
      "metadata": {
        "id": "SgYkjk17GC9W",
        "colab_type": "code",
        "colab": {}
      },
      "source": [
        "julia = JuliaSet(complex(0.28, 0.008))"
      ],
      "execution_count": 0,
      "outputs": []
    },
    {
      "cell_type": "markdown",
      "metadata": {
        "id": "5skr9ugXZgeA",
        "colab_type": "text"
      },
      "source": [
        "Plot the Julia set. Use 'xlim' and 'ylim' to zoom in on the image. "
      ]
    },
    {
      "cell_type": "code",
      "metadata": {
        "id": "ThWhqnj_GC9a",
        "colab_type": "code",
        "colab": {}
      },
      "source": [
        "%matplotlib inline\n",
        "plt.rcParams['figure.figsize'] = [20, 20]\n",
        "plt.imshow(julia, interpolation='nearest', cmap=cm.hot, extent = [xmin , xmax, ymin , ymax])\n",
        "# Set the tick labels to the coordinates of z0 in the complex plane\n",
        "#plt.xlim((-1, 1)) #z\n",
        "#plt.ylim((-1, 1))\n",
        "plt.xlabel('Re(z)')\n",
        "plt.ylabel('Im(z)')\n",
        "plt.show()"
      ],
      "execution_count": 0,
      "outputs": []
    },
    {
      "cell_type": "markdown",
      "metadata": {
        "id": "-pmIdWrhVLkt",
        "colab_type": "text"
      },
      "source": [
        "We can see the fractal patterns up to a limited resolution. That is, when we zoom in we can see self-similar structure until the details start to get blurry. This is because we put a finite amount of initial complex numbers into the rectangular grid over which the studies were performed. To increase the resolution, increase 'im_height', and 'im_width' in our script. The code will take longer to run (iterating over more numbers) but it will yield more details in the fractals. "
      ]
    }
  ]
}