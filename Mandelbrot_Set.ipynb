{
  "nbformat": 4,
  "nbformat_minor": 0,
  "metadata": {
    "colab": {
      "name": "Mandelbrot Set.ipynb",
      "version": "0.3.2",
      "provenance": [],
      "include_colab_link": true
    },
    "language_info": {
      "codemirror_mode": {
        "name": "ipython",
        "version": 3
      },
      "file_extension": ".py",
      "mimetype": "text/x-python",
      "name": "python",
      "nbconvert_exporter": "python",
      "pygments_lexer": "ipython3",
      "version": "3.7.3"
    },
    "kernelspec": {
      "display_name": "Python 3",
      "language": "python",
      "name": "python3"
    }
  },
  "cells": [
    {
      "cell_type": "markdown",
      "metadata": {
        "id": "view-in-github",
        "colab_type": "text"
      },
      "source": [
        "<a href=\"https://colab.research.google.com/github/girlstalkmath-umd/patterns-and-fractals/blob/master/Mandelbrot_Set.ipynb\" target=\"_parent\"><img src=\"https://colab.research.google.com/assets/colab-badge.svg\" alt=\"Open In Colab\"/></a>"
      ]
    },
    {
      "cell_type": "markdown",
      "metadata": {
        "id": "mgSyfD6-STAm",
        "colab_type": "text"
      },
      "source": [
        "# Mandelbrot Set\n",
        "\n",
        "You may have noticed that if we iterate starting from 0 we get a pretty good idea about the dynamical properties of the function. For those of you who have seen Calculus, this is because 0 is a critical point for any function of the form $z^2 +c$. (From calculus, we define a critical point as a point where the derivative is zero (or does not exist)).\n",
        "\n",
        "More specifically for $f(z) = z^2+ c$, if the orbit of 0 is attracted to a fixed point, there is only one attractive fixed point. If it is attracted to a periodic cycle, that is the only attractive periodic cycle. However, if the orbit of 0 diverges, there are no attractive cycles.\n",
        "\n",
        "For Mandelbrot sets we want to observe the behavior of the parameter space --- or how $c$ changes. This just means that instead of changing the initial condition for the iteration, we are changing the $c$ value and observing what happens to 0 under iteration for each parameter $c$. For a particular $c$ if the orbit stays bounded under iteration, we say that $c$ is in the Mandelbrot set (shown in color), if the orbit diverges, we say it is not in the Mandelbrot set (shown as black).\n",
        "* From the Julia Set exercise, what values of $c$ are in a Mandelbrot set?\n",
        "\n",
        "We will visualize the Mandelbrot set using an algorithm that is very similar to the one for generating an image of the Julia set. This time we have a rectangular grid representing values of $c$ and we iterate the function $z^2 + c$ starting from 0 until one of the following happens:\n",
        "\n",
        "*   If any iteration exceeds 2 in absolute value, color the point according to the number of iterations it takes to get large. \n",
        "*   we reach some pre-specified stopping criterion, in which case the point is colored black. \n",
        "\n",
        "This time you will be writing most of the code to plot the Mandelbrot set. Let us first copy the Julia set code from the previous notebook. We will be modifying this code to generate the Mandelbrot set.\n",
        "\n",
        "# Julia Set Code:"
      ]
    },
    {
      "cell_type": "code",
      "metadata": {
        "id": "Otq38n0oSTAn",
        "colab_type": "code",
        "colab": {}
      },
      "source": [
        "import numpy as np\n",
        "import matplotlib.pyplot as plt\n",
        "import matplotlib.cm as cm\n",
        "\n",
        "# Image width and height; parameters for the plot\n",
        "im_width, im_height = 1000, 1000\n",
        "\n",
        "c = complex(-0.1, 0.65)\n",
        "\n",
        "zabs_max = 10  # if z crosses zabs_max, we call this the bailout condition and color the point black.\n",
        "nit_max = 1000 # maximum number of iterations\n",
        "xmin, xmax = -1.5, 1.5 # x limits of our domain in the complex plane\n",
        "xwidth = xmax - xmin # width of our domain in the complex plane\n",
        "ymin, ymax = -1.5, 1.5 # y limits of our domain in the complex plane\n",
        "yheight = ymax - ymin # height of our domain in the complex plane\n",
        "\n",
        "\n",
        "julia = np.zeros((im_width, im_height))\n",
        "\n",
        "for ix in range(im_width):\n",
        "    for iy in range(im_height):\n",
        "        nit = 0\n",
        "        # Map pixel position to a point in the complex plane\n",
        "        z = complex(ix / im_width * xwidth + xmin,\n",
        "                    iy / im_height * yheight + ymin)\n",
        "        # Do the iterations\n",
        "        while abs(z) <= zabs_max and nit < nit_max:\n",
        "            z = z**2 + c\n",
        "            nit += 1\n",
        "        ratio = nit / nit_max\n",
        "        julia[ix,iy] = ratio"
      ],
      "execution_count": 0,
      "outputs": []
    },
    {
      "cell_type": "code",
      "metadata": {
        "id": "L6pBt-XKSTAr",
        "colab_type": "code",
        "colab": {}
      },
      "source": [
        "%matplotlib inline\n",
        "plt.rcParams['figure.figsize'] = [20, 20]\n",
        "plt.imshow(julia, interpolation='nearest', cmap=cm.hot)\n",
        "# Set the tick labels to the coordinates of z0 in the complex plane\n",
        "plt.show()"
      ],
      "execution_count": 0,
      "outputs": []
    },
    {
      "cell_type": "markdown",
      "metadata": {
        "id": "qy30nYMMSTAw",
        "colab_type": "text"
      },
      "source": [
        "# Mandelbrot Set Code"
      ]
    },
    {
      "cell_type": "code",
      "metadata": {
        "id": "dHDKuoOxSTAx",
        "colab_type": "code",
        "colab": {}
      },
      "source": [
        "import numpy as np\n",
        "import matplotlib.pyplot as plt\n",
        "import matplotlib.cm as cm\n",
        "\n",
        "# Image width and height; parameters for the plot\n",
        "im_width, im_height = 1000, 1000\n"
      ],
      "execution_count": 0,
      "outputs": []
    },
    {
      "cell_type": "code",
      "metadata": {
        "id": "imO8VQJlSTAz",
        "colab_type": "code",
        "colab": {}
      },
      "source": [
        "zabs_max = 10  # if z crosses zabs_max, we call this the bailout condition and color the point black.\n",
        "nit_max = 1000 # maximum number of iterations\n",
        "cxmin, cxmax = -1.5, 1.5 # x limits of our domain in the complex plane\n",
        "cxwidth = cxmax - xmin # width of our domain in the complex plane\n",
        "cymin, cymax = -1.5, 1.5 # y limits of our domain in the complex plane\n",
        "cyheight = cymax - cymin # height of our domain in the complex plane"
      ],
      "execution_count": 0,
      "outputs": []
    },
    {
      "cell_type": "code",
      "metadata": {
        "id": "NRZD1x3lSTA2",
        "colab_type": "code",
        "colab": {}
      },
      "source": [
        "mandelbrot = np.zeros((im_width, im_height))"
      ],
      "execution_count": 0,
      "outputs": []
    },
    {
      "cell_type": "markdown",
      "metadata": {
        "id": "5IJV7m0s4sDE",
        "colab_type": "text"
      },
      "source": [
        "###Important: The following code for the Mandlebrot set will need the starting points for the parameters and the initial condition based on the Mandlebrot set description. It will also need the iterative function as it had for the Julia set.  "
      ]
    },
    {
      "cell_type": "code",
      "metadata": {
        "id": "WuCCH75jSTA4",
        "colab_type": "code",
        "colab": {}
      },
      "source": [
        "for icx in range(im_width):\n",
        "    for icy in range(im_height):\n",
        "        nit = 0\n",
        "        # Map pixel position to a point in the complex plane\n",
        "        c = \n",
        "        \n",
        "        # Do the iterations\n",
        "        z = \n",
        "        while abs(z) <= zabs_max and nit < nit_max:\n",
        "            #Add two lines here to iterate the function\n",
        "            #Use the Julia set code for help\n",
        "        ratio = nit / nit_max\n",
        "        mandelbrot[icx,icy] = ratio"
      ],
      "execution_count": 0,
      "outputs": []
    },
    {
      "cell_type": "code",
      "metadata": {
        "id": "n3HoycVbSTA7",
        "colab_type": "code",
        "colab": {}
      },
      "source": [
        "%matplotlib inline\n",
        "plt.rcParams['figure.figsize'] = [20, 20]\n",
        "plt.imshow(mandelbrot, interpolation='nearest', cmap=cm.viridis)\n",
        "# Set the tick labels to the coordinates of z0 in the complex plane\n",
        "plt.show()"
      ],
      "execution_count": 0,
      "outputs": []
    }
  ]
}