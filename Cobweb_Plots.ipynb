{
  "nbformat": 4,
  "nbformat_minor": 0,
  "metadata": {
    "colab": {
      "name": "Cobweb Plots.ipynb",
      "provenance": [],
      "include_colab_link": true
    },
    "language_info": {
      "codemirror_mode": {
        "name": "ipython",
        "version": 3
      },
      "file_extension": ".py",
      "mimetype": "text/x-python",
      "name": "python",
      "nbconvert_exporter": "python",
      "pygments_lexer": "ipython3",
      "version": "3.7.3"
    },
    "kernelspec": {
      "display_name": "Python 3",
      "language": "python",
      "name": "python3"
    }
  },
  "cells": [
    {
      "cell_type": "markdown",
      "metadata": {
        "id": "view-in-github",
        "colab_type": "text"
      },
      "source": [
        "<a href=\"https://colab.research.google.com/github/girlstalkmath-umd/patterns-and-fractals/blob/master/Cobweb_Plots.ipynb\" target=\"_parent\"><img src=\"https://colab.research.google.com/assets/colab-badge.svg\" alt=\"Open In Colab\"/></a>"
      ]
    },
    {
      "cell_type": "markdown",
      "metadata": {
        "id": "2qH0Xkx3CZvG",
        "colab_type": "text"
      },
      "source": [
        "#Cobweb Plots\n",
        "The following is an exercise showing cobweb plots of the logistic map,\n",
        "$$f(x) = r x (x-1).$$\n",
        "In these plots, we ask whether the solution converges to an attractive fixed point or diverges to inifinity. In some cases it appears to do neither. Run all the code below. Experiment with the plot_cobweb function by increasing the parameter $r$ and/or changing the initial value, $x$ as inputs in the last cell. Rerun the last cell to study the behavior of different families of the $r$ parameter."
      ]
    },
    {
      "cell_type": "code",
      "metadata": {
        "id": "pv8cMLTaAJmc",
        "colab_type": "code",
        "colab": {}
      },
      "source": [
        "import numpy as np\n",
        "from matplotlib import rc\n",
        "import matplotlib.pyplot as plt\n",
        "\n",
        "\n",
        "def plot_cobweb(f, r, x0, nmax=50):\n",
        "    \"\"\"Make a cobweb plot.\n",
        "\n",
        "    Plot y = f(x; r) and y = x for 0 <= x <= 1, and illustrate the behaviour of\n",
        "    iterating x = f(x) starting at x = x0. r is a parameter to the function.\n",
        "\n",
        "    \"\"\"\n",
        "    dpi = 100\n",
        "    x = np.linspace(0, 1, 500)\n",
        "    fig = plt.figure(figsize=(600/dpi, 450/dpi), dpi=dpi)\n",
        "    ax = fig.add_subplot(111)\n",
        "\n",
        "    # Plot y = f(x) and y = x\n",
        "    ax.plot(x, f(x, r), c='#444444', lw=2)\n",
        "    ax.plot(x, x, c='#444444', lw=2)\n",
        "\n",
        "    # Iterate x = f(x) for nmax steps, starting at (x0, 0).\n",
        "    px, py = np.empty((2,nmax+1,2))\n",
        "    px[0], py[0] = x0, 0\n",
        "    for n in range(1, nmax, 2):\n",
        "        px[n] = px[n-1]\n",
        "        py[n] = f(px[n-1], r)\n",
        "        px[n+1] = py[n]\n",
        "        py[n+1] = py[n]\n",
        "\n",
        "    # Plot the path traced out by the iteration.\n",
        "    ax.plot(px, py, c='b', alpha=0.7)\n",
        "\n",
        "    # Annotate and tidy the plot.\n",
        "    ax.minorticks_on()\n",
        "    ax.grid(which='minor', alpha=0.5)\n",
        "    ax.grid(which='major', alpha=0.5)\n",
        "    ax.set_aspect('equal')\n",
        "    ax.set_xlabel('$x$')\n",
        "    ax.set_ylabel('$f(x)$')\n",
        "    ax.set_title('$x_0 = {:.1}, r = {:.3}$'.format(x0, r))\n",
        "\n"
      ],
      "execution_count": 0,
      "outputs": []
    },
    {
      "cell_type": "markdown",
      "metadata": {
        "id": "g-Y69TLfv5sv",
        "colab_type": "text"
      },
      "source": [
        "Define the logistic function (or any function you choose)."
      ]
    },
    {
      "cell_type": "code",
      "metadata": {
        "id": "ST0wD3DFAJmg",
        "colab_type": "code",
        "colab": {}
      },
      "source": [
        "def f(x, r):\n",
        "    return r*x*(1-x)"
      ],
      "execution_count": 0,
      "outputs": []
    },
    {
      "cell_type": "markdown",
      "metadata": {
        "id": "Ikvim8lswRrQ",
        "colab_type": "text"
      },
      "source": [
        "Define our initial condition $x_0$ and parameter $r$."
      ]
    },
    {
      "cell_type": "code",
      "metadata": {
        "id": "KzPqCT-qwaqc",
        "colab_type": "code",
        "colab": {}
      },
      "source": [
        "x0 = 0.2\n",
        "r = 3.83"
      ],
      "execution_count": 0,
      "outputs": []
    },
    {
      "cell_type": "markdown",
      "metadata": {
        "id": "bPOHfzsKv_0d",
        "colab_type": "text"
      },
      "source": [
        "Make a cobweb plot.\n"
      ]
    },
    {
      "cell_type": "code",
      "metadata": {
        "id": "uajAgL6qAJmi",
        "colab_type": "code",
        "colab": {}
      },
      "source": [
        "plot_cobweb(f, r, x0)"
      ],
      "execution_count": 0,
      "outputs": []
    },
    {
      "cell_type": "markdown",
      "metadata": {
        "id": "_TNAHKllqjQJ",
        "colab_type": "text"
      },
      "source": [
        "Now let's take a look at that in a different way. Here we plot the logistic map output (y-axis) as a function of iteration (x-axis). "
      ]
    },
    {
      "cell_type": "code",
      "metadata": {
        "id": "mld_zQ3-qh9Z",
        "colab_type": "code",
        "colab": {}
      },
      "source": [
        "def plot_iter(f, r, x0, nmax=40):\n",
        "    \"\"\"Make a iteration plot.\n",
        "\n",
        "    Plot iteration number vs. f(x; r) starting at x = x0. \n",
        "    r is a parameter to the function.\n",
        "\n",
        "    \"\"\"\n",
        "\n",
        "    # Iterate x = f(x) for nmax steps, starting at (x0, 0).\n",
        "    iter, fx = np.empty((2,nmax))\n",
        "    iter[0], fx[0] = 0, x0\n",
        "    for n in range(1, nmax):\n",
        "        iter[n] = n\n",
        "        fx[n] = f(fx[n-1], r)\n",
        "\n",
        "    # Plot the path traced out by the iteration.\n",
        "    plt.plot(iter, fx, c='b', alpha=0.7)\n",
        "\n",
        "    # Annotate and tidy the plot.\n",
        "    plt.xlabel('$x$')\n",
        "    plt.ylabel('$f(x)$')\n",
        "    plt.title('$x_0 = {:.1}, r = {:.2}$'.format(x0, r))\n",
        "    return fx[nmax-1]\n"
      ],
      "execution_count": 0,
      "outputs": []
    },
    {
      "cell_type": "code",
      "metadata": {
        "id": "VYINw1J8wJ-R",
        "colab_type": "code",
        "colab": {}
      },
      "source": [
        "last_iter = plot_iter(f, r, x0)\n",
        "print('The last iteration values is',last_iter) "
      ],
      "execution_count": 0,
      "outputs": []
    },
    {
      "cell_type": "markdown",
      "metadata": {
        "id": "X_j_f9hA1kOj",
        "colab_type": "text"
      },
      "source": [
        "Look how the last iteration value compares to the point the cobweb map converges (or diverges) to. Under what $x_0$ and $r$ do the iterations not go off to $\\infty$ (or $-\\infty$)? Check values of $r>3.0$ to see what happens to them. Do they converge to a single value? What about $r > 3.45$? $𝑟>3.57$? $r=3.83$? $r>3.85$? Change the parameters, then click 'Run all' under 'Runtime'."
      ]
    }
  ]
}