{
  "nbformat": 4,
  "nbformat_minor": 0,
  "metadata": {
    "colab": {
      "name": "Iterations.ipynb",
      "version": "0.3.2",
      "provenance": [],
      "include_colab_link": true
    },
    "language_info": {
      "codemirror_mode": {
        "name": "ipython",
        "version": 3
      },
      "file_extension": ".py",
      "mimetype": "text/x-python",
      "name": "python",
      "nbconvert_exporter": "python",
      "pygments_lexer": "ipython3",
      "version": "3.7.3"
    },
    "kernelspec": {
      "display_name": "Python 3",
      "language": "python",
      "name": "python3"
    }
  },
  "cells": [
    {
      "cell_type": "markdown",
      "metadata": {
        "id": "view-in-github",
        "colab_type": "text"
      },
      "source": [
        "<a href=\"https://colab.research.google.com/github/girlstalkmath-umd/patterns-and-fractals/blob/master/Iterations.ipynb\" target=\"_parent\"><img src=\"https://colab.research.google.com/assets/colab-badge.svg\" alt=\"Open In Colab\"/></a>"
      ]
    },
    {
      "cell_type": "markdown",
      "metadata": {
        "id": "sCndAzYHFi0i",
        "colab_type": "text"
      },
      "source": [
        "# Functional Iteration"
      ]
    },
    {
      "cell_type": "markdown",
      "metadata": {
        "id": "cHMPn1rEFi0k",
        "colab_type": "text"
      },
      "source": [
        "Let $f(x)$ be a function. If we want to iterate $f$, it just means we will pick some starting point, call it $x_0$ and we can plug it into our function to get some output. We will then put this output back into our function. We could continue this process forever.\n",
        "For example, for $f(x) = x^2$, if we pick our starting point to be $x_0 = 2$ we will have:"
      ]
    },
    {
      "cell_type": "markdown",
      "metadata": {
        "id": "NNLMZOgrFi0l",
        "colab_type": "text"
      },
      "source": [
        "$f(2) = 4$\n",
        "\n",
        "$f(4) = 16$\n",
        "\n",
        "$f(16) = 256$"
      ]
    },
    {
      "cell_type": "markdown",
      "metadata": {
        "id": "zmbXrWudFi0m",
        "colab_type": "text"
      },
      "source": [
        "And so on. This will give us a sequence of numbers which we call the orbit of $x_0$. For this function and starting point $x_0 = 2$ the numbers in the sequence will keep getting bigger and bigger. \n",
        "\n",
        "\n",
        "If we had instead chosen $x_0 = 0$, we would have:\n",
        "\n",
        "$f(0) = 0$\n",
        "\n",
        "$f(0) = 0$ ...\n",
        "\n",
        "This time, as we continue iterating, we would the same number over and over again, so the orbit of $0$ is $0$, $0$, $0$, $0$, $0$, ... going on forever."
      ]
    },
    {
      "cell_type": "markdown",
      "metadata": {
        "id": "kG4eLBYUFi0n",
        "colab_type": "text"
      },
      "source": [
        "# Exercise\n",
        "The next cell shows you how to define a function in python (if you are confused about this, go back to the python tutorial notebook). Run the cell below to define the function $f(x) = x^2$"
      ]
    },
    {
      "cell_type": "code",
      "metadata": {
        "id": "dCdZavZbFi0n",
        "colab_type": "code",
        "colab": {}
      },
      "source": [
        "def f(x):\n",
        "\n",
        "    return x**2"
      ],
      "execution_count": 0,
      "outputs": []
    },
    {
      "cell_type": "markdown",
      "metadata": {
        "id": "5Pz4tjyoFi0r",
        "colab_type": "text"
      },
      "source": [
        "Now use this function that we just defined to compute the value of $37^{ 2}$"
      ]
    },
    {
      "cell_type": "code",
      "metadata": {
        "id": "RKfmiV40Fi0s",
        "colab_type": "code",
        "colab": {
          "base_uri": "https://localhost:8080/",
          "height": 34
        },
        "outputId": "a135080b-94a8-48fe-8f80-2151297af80a"
      },
      "source": [
        "f(37)"
      ],
      "execution_count": 2,
      "outputs": [
        {
          "output_type": "execute_result",
          "data": {
            "text/plain": [
              "1369"
            ]
          },
          "metadata": {
            "tags": []
          },
          "execution_count": 2
        }
      ]
    },
    {
      "cell_type": "markdown",
      "metadata": {
        "id": "wyi5ylxHFi0x",
        "colab_type": "text"
      },
      "source": [
        "Next, we define a function (called nestList) to iterate the function $f(x)$ several times. Don't worry too much if you don't understand everything that nestList does. Just run the following two cells and play around with the starting point and number of iterations."
      ]
    },
    {
      "cell_type": "code",
      "metadata": {
        "id": "48KjNvLFFi0y",
        "colab_type": "code",
        "colab": {}
      },
      "source": [
        "def nestList(func, x, number_of_iterations):\n",
        "    for i in range(number_of_iterations):\n",
        "        yield x\n",
        "        x = func(x)\n",
        "    yield x\n"
      ],
      "execution_count": 0,
      "outputs": []
    },
    {
      "cell_type": "code",
      "metadata": {
        "id": "XUTT0550Fi00",
        "colab_type": "code",
        "colab": {
          "base_uri": "https://localhost:8080/",
          "height": 34
        },
        "outputId": "720c0f8e-1613-473d-f750-f40589b58625"
      },
      "source": [
        "starting_point = 2\n",
        "\n",
        "number_of_iterations = 5\n",
        "\n",
        "func = f\n",
        "\n",
        "print(list(nestList(func, starting_point, number_of_iterations)))"
      ],
      "execution_count": 4,
      "outputs": [
        {
          "output_type": "stream",
          "text": [
            "[2, 4, 16, 256, 65536, 4294967296]\n"
          ],
          "name": "stdout"
        }
      ]
    },
    {
      "cell_type": "markdown",
      "metadata": {
        "id": "_6j-yMKKFi04",
        "colab_type": "text"
      },
      "source": [
        "# Exercise:\n",
        "Try iterating the function $f(x) = x^2$ using several starting points, $x_0$.\n",
        "\n",
        "Can you see a pattern for numbers larger than 1? What about for numbers\n",
        "smaller than 1?\n",
        "\n",
        "What happens for $x_0 = 0?$ $x_0 =1$?\n",
        "\n",
        "HINT: just change the starting point to whatever you want and run the cell below!\n"
      ]
    },
    {
      "cell_type": "code",
      "metadata": {
        "id": "4LlSXsP2Fi05",
        "colab_type": "code",
        "colab": {},
        "outputId": "e63fbc23-895f-4dc7-86cf-c98ce8b86fc6"
      },
      "source": [
        "starting_point = 1\n",
        "\n",
        "number_of_iterations = 5\n",
        "\n",
        "func = f\n",
        "\n",
        "print(list(nestList(func, starting_point, number_of_iterations)))"
      ],
      "execution_count": 0,
      "outputs": [
        {
          "output_type": "stream",
          "text": [
            "[1, 1, 1, 1, 1, 1]\n"
          ],
          "name": "stdout"
        }
      ]
    },
    {
      "cell_type": "markdown",
      "metadata": {
        "id": "KaXNsLXXFi08",
        "colab_type": "text"
      },
      "source": [
        "# Exercise:\n",
        "\n",
        "Try iterating some other functions from several starting values. For ex- ample, you could try: $f(x) = x^2 − 1$ or $f(x) = x^2 − 2$. See what patterns you can notice.\n",
        "\n",
        "We have been focusing on functions of the form $f(x) = x^2 + c$ where $c$ is a constant (but we are allowing it to be different for each function). We call this a family of functions because there are infinitely many functions of that form. We will continue to learn about this family because there are a lot of interesting dynamics for these functions but the ideas of iteration can easily apply to many other types of functions.\n"
      ]
    },
    {
      "cell_type": "code",
      "metadata": {
        "id": "bBtNsKiCFi09",
        "colab_type": "code",
        "colab": {}
      },
      "source": [
        "def g(x):\n",
        "\n",
        "    return x**2 -1"
      ],
      "execution_count": 0,
      "outputs": []
    },
    {
      "cell_type": "code",
      "metadata": {
        "id": "N8lExOnBFi0_",
        "colab_type": "code",
        "colab": {},
        "outputId": "400a6142-a87d-4d2f-d689-f9aea543d39b"
      },
      "source": [
        "starting_point = 1\n",
        "\n",
        "number_of_iterations = 5\n",
        "\n",
        "func = g\n",
        "\n",
        "print(list(nestList(func, starting_point, number_of_iterations)))"
      ],
      "execution_count": 0,
      "outputs": [
        {
          "output_type": "stream",
          "text": [
            "[1, 0, -1, 0, -1, 0]\n"
          ],
          "name": "stdout"
        }
      ]
    },
    {
      "cell_type": "code",
      "metadata": {
        "id": "U2sq1srEFi1D",
        "colab_type": "code",
        "colab": {}
      },
      "source": [
        ""
      ],
      "execution_count": 0,
      "outputs": []
    }
  ]
}