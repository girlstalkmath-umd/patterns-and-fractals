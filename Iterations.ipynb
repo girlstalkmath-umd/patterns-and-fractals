{
 "cells": [
  {
   "cell_type": "markdown",
   "metadata": {
    "colab_type": "text",
    "id": "view-in-github"
   },
   "source": [
    "<a href=\"https://colab.research.google.com/github/girlstalkmath-umd/patterns-and-fractals/blob/master/Iterations.ipynb\" target=\"_parent\"><img src=\"https://colab.research.google.com/assets/colab-badge.svg\" alt=\"Open In Colab\"/></a>"
   ]
  },
  {
   "cell_type": "markdown",
   "metadata": {
    "colab_type": "text",
    "id": "sCndAzYHFi0i"
   },
   "source": [
    "# Functional Iteration"
   ]
  },
  {
   "cell_type": "markdown",
   "metadata": {
    "colab_type": "text",
    "id": "cHMPn1rEFi0k"
   },
   "source": [
    "Let $f(x)$ be the quadratic function, $x^2$. If we want to iterate $f$, it just means we will pick some starting point, call it $x_0$ and we can plug it into our function to get some output. We will then put this output back into our function, and continue this process of iterating forwards until a given stopping criterion is reached. \n",
    "Choose our starting point to be $x_0 = 2$ we will have:"
   ]
  },
  {
   "cell_type": "markdown",
   "metadata": {
    "colab_type": "text",
    "id": "NNLMZOgrFi0l"
   },
   "source": [
    "$f(2) = 4$\n",
    "\n",
    "$f(4) = 16$\n",
    "\n",
    "$f(16) = 256$"
   ]
  },
  {
   "cell_type": "markdown",
   "metadata": {
    "colab_type": "text",
    "id": "zmbXrWudFi0m"
   },
   "source": [
    "And so on. This will give us a sequence of numbers which we call the orbit of $x_0$. For this function and starting point $x_0 = 2$ the numbers in the sequence will keep getting bigger and bigger. \n",
    "\n",
    "\n",
    "If we had instead chosen $x_0 = 0$, we would have:\n",
    "\n",
    "$f(0) = 0$\n",
    "\n",
    "$f(0) = 0$ ...\n",
    "\n",
    "This time, as we continue iterating, we would the same number over and over again, so the orbit of $0$ is $0$, $0$, $0$, $0$, $0$, ... going on forever. We call this repeated point a fixed point. "
   ]
  },
  {
   "cell_type": "markdown",
   "metadata": {
    "colab_type": "text",
    "id": "kG4eLBYUFi0n"
   },
   "source": [
    "# Exercise\n",
    "The next cell shows you how to define a function in python (if you are confused about this, go back to the python basics tutorial notebook). Run the cell below to define the function $f(x) = x^2$"
   ]
  },
  {
   "cell_type": "code",
   "execution_count": null,
   "metadata": {
    "colab": {},
    "colab_type": "code",
    "id": "dCdZavZbFi0n"
   },
   "outputs": [],
   "source": [
    "def f(x):\n",
    "\n",
    "    return x**2"
   ]
  },
  {
   "cell_type": "markdown",
   "metadata": {
    "colab_type": "text",
    "id": "5Pz4tjyoFi0r"
   },
   "source": [
    "Now use this function that we just defined to compute the value of $37^{ 2}$"
   ]
  },
  {
   "cell_type": "code",
   "execution_count": null,
   "metadata": {
    "colab": {},
    "colab_type": "code",
    "id": "RKfmiV40Fi0s"
   },
   "outputs": [],
   "source": [
    "f(37)"
   ]
  },
  {
   "cell_type": "markdown",
   "metadata": {
    "colab_type": "text",
    "id": "wyi5ylxHFi0x"
   },
   "source": [
    "Next, we define a function (called nestList) to iterate the function $f(x)$ several times. Don't worry too much if you don't understand everything that nestList does. Just run the following two cells and play around with the starting point and number of iterations (stopping criterion)."
   ]
  },
  {
   "cell_type": "code",
   "execution_count": null,
   "metadata": {
    "colab": {},
    "colab_type": "code",
    "id": "48KjNvLFFi0y"
   },
   "outputs": [],
   "source": [
    "def nestList(func, x, number_of_iterations):\n",
    "    for i in range(number_of_iterations):\n",
    "        yield x\n",
    "        x = func(x)\n",
    "    yield x\n"
   ]
  },
  {
   "cell_type": "code",
   "execution_count": null,
   "metadata": {
    "colab": {},
    "colab_type": "code",
    "id": "XUTT0550Fi00"
   },
   "outputs": [],
   "source": [
    "starting_point = 2\n",
    "\n",
    "number_of_iterations = 5\n",
    "\n",
    "func = f\n",
    "\n",
    "print(list(nestList(func, starting_point, number_of_iterations)))"
   ]
  },
  {
   "cell_type": "markdown",
   "metadata": {
    "colab_type": "text",
    "id": "_6j-yMKKFi04"
   },
   "source": [
    "# Exercise:\n",
    "Try iterating the function $f(x) = x^2$ using several starting points, $x_0$.\n",
    "\n",
    "Can you see a pattern for numbers larger than 1? What about for numbers\n",
    "smaller than 1?\n",
    "\n",
    "What happens for $x_0 = 0?$ $x_0 =1$?\n",
    "\n",
    "HINT: just change the starting point to whatever you want and run the cell below!\n"
   ]
  },
  {
   "cell_type": "code",
   "execution_count": null,
   "metadata": {
    "colab": {},
    "colab_type": "code",
    "id": "4LlSXsP2Fi05"
   },
   "outputs": [],
   "source": [
    "starting_point = 1\n",
    "\n",
    "number_of_iterations = 5\n",
    "\n",
    "func = f\n",
    "\n",
    "print(list(nestList(func, starting_point, number_of_iterations)))"
   ]
  },
  {
   "cell_type": "markdown",
   "metadata": {
    "colab_type": "text",
    "id": "KaXNsLXXFi08"
   },
   "source": [
    "# Exercise:\n",
    "\n",
    "Try iterating some other quadratic functions from several starting values. For example, you could try: $f(x)=x^2-1$ or $f(x)=x^2-2$. See what patterns you can notice.\n",
    "\n",
    "In Julia sets and Mandlebrot set, we will be focusing on functions of the form $f(x) = x^2 + c$ where $c$ is a constant. We call this a family of functions because there are infinitely many functions of that form. We will continue to learn about this family because there are a lot of interesting dynamics for these functions but the ideas of iteration can easily apply to many other types of functions."
   ]
  },
  {
   "cell_type": "code",
   "execution_count": null,
   "metadata": {
    "colab": {},
    "colab_type": "code",
    "id": "bBtNsKiCFi09"
   },
   "outputs": [],
   "source": [
    "def g(x):\n",
    "\n",
    "    return x**2 -1"
   ]
  },
  {
   "cell_type": "code",
   "execution_count": null,
   "metadata": {
    "colab": {},
    "colab_type": "code",
    "id": "N8lExOnBFi0_"
   },
   "outputs": [],
   "source": [
    "starting_point = 1\n",
    "\n",
    "number_of_iterations = 5\n",
    "\n",
    "func = g\n",
    "\n",
    "print(list(nestList(func, starting_point, number_of_iterations)))"
   ]
  }
 ],
 "metadata": {
  "colab": {
   "include_colab_link": true,
   "name": "Iterations.ipynb",
   "provenance": [],
   "version": "0.3.2"
  },
  "kernelspec": {
   "display_name": "Python 3",
   "language": "python",
   "name": "python3"
  },
  "language_info": {
   "codemirror_mode": {
    "name": "ipython",
    "version": 3
   },
   "file_extension": ".py",
   "mimetype": "text/x-python",
   "name": "python",
   "nbconvert_exporter": "python",
   "pygments_lexer": "ipython3",
   "version": "3.7.3"
  }
 },
 "nbformat": 4,
 "nbformat_minor": 1
}
