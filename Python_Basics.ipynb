{
  "nbformat": 4,
  "nbformat_minor": 0,
  "metadata": {
    "colab": {
      "name": "Python_Basics.ipynb",
      "provenance": [],
      "include_colab_link": true
    },
    "kernelspec": {
      "name": "python3",
      "display_name": "Python 3"
    }
  },
  "cells": [
    {
      "cell_type": "markdown",
      "metadata": {
        "id": "view-in-github",
        "colab_type": "text"
      },
      "source": [
        "<a href=\"https://colab.research.google.com/github/girlstalkmath-umd/patterns-and-fractals/blob/master/Python_Basics.ipynb\" target=\"_parent\"><img src=\"https://colab.research.google.com/assets/colab-badge.svg\" alt=\"Open In Colab\"/></a>"
      ]
    },
    {
      "cell_type": "markdown",
      "metadata": {
        "id": "x4s1RhHwQfNs",
        "colab_type": "text"
      },
      "source": [
        "Let us execute our first line of code in Python! Execute the code in the gray box below by hovering the mouse over the upper left corner and clicking the play button that appears. "
      ]
    },
    {
      "cell_type": "code",
      "metadata": {
        "id": "xgK7WmmVQ3jx",
        "colab_type": "code",
        "colab": {}
      },
      "source": [
        "print('hello world!')"
      ],
      "execution_count": null,
      "outputs": []
    },
    {
      "cell_type": "markdown",
      "metadata": {
        "id": "607N2LH3QRcP",
        "colab_type": "text"
      },
      "source": [
        "That was easy! Now let us see how to work with numbers"
      ]
    },
    {
      "cell_type": "code",
      "metadata": {
        "id": "xPohP1KrRCBN",
        "colab_type": "code",
        "colab": {}
      },
      "source": [
        "num1 = 2  \n",
        "num2 = 4  \n",
        "result = num1 + num2  \n",
        "print(result)  "
      ],
      "execution_count": null,
      "outputs": []
    },
    {
      "cell_type": "markdown",
      "metadata": {
        "id": "5RkCF8WGRGj1",
        "colab_type": "text"
      },
      "source": [
        "Try changing the two numbers above. Calculate 213243 + 9891434. Simply replace the numbers 2 and 4 with the new numbers and re-run the cell. Similarly, you can subtract, multiply, divide and do anything you could think of doing on your calculator. Try out a few different operations on two numbers!"
      ]
    },
    {
      "cell_type": "code",
      "metadata": {
        "id": "XKeRF62TRFKW",
        "colab_type": "code",
        "colab": {}
      },
      "source": [
        "num1 = 100\n",
        "num2 = 20\n",
        "result = num1/num2  \n",
        "print(result)  "
      ],
      "execution_count": null,
      "outputs": []
    },
    {
      "cell_type": "markdown",
      "metadata": {
        "id": "SyXyQ54kR2fl",
        "colab_type": "text"
      },
      "source": [
        "## Conditional Statements\n",
        "\n",
        "A very important part of writing code is learning about conditional statements. These are statements that perform an action if a condition is true (or false). For example, \n",
        "\n",
        "IF it is raining outside, I will carry an umbrella\n",
        "\n",
        "or ELSE, IF it is sunny outside, I will wear sunscreen\n",
        "\n",
        "These are examples of conditional statements in english. Let us look at some conditional statements in programming"
      ]
    },
    {
      "cell_type": "code",
      "metadata": {
        "id": "BSnqaTYFRqLK",
        "colab_type": "code",
        "colab": {}
      },
      "source": [
        "age = 24\n",
        "\n",
        "if age >= 18:  \n",
        "    print(\"You are eligible for math college.\")\n",
        "\n",
        "print(\"Thank you for checking.\")  "
      ],
      "execution_count": null,
      "outputs": []
    },
    {
      "cell_type": "markdown",
      "metadata": {
        "id": "OZxFkC7oS0qI",
        "colab_type": "text"
      },
      "source": [
        "Now change the age above to 34 and see what the output of the code is. Notice that the indentation of the statement following the conditional matters. The unindented print statement further below is not part of the conditional. "
      ]
    },
    {
      "cell_type": "code",
      "metadata": {
        "id": "KWkaSAqaSyGY",
        "colab_type": "code",
        "colab": {}
      },
      "source": [
        "age = 16\n",
        "\n",
        "if age >=18:  \n",
        "    print(\"You are eligible for math college.\")\n",
        "else:  \n",
        "    print(\"You are eligible for math camp! Yaay!\")\n",
        "\n",
        "print(\"Thank you for checking.\")  "
      ],
      "execution_count": null,
      "outputs": []
    },
    {
      "cell_type": "markdown",
      "metadata": {
        "id": "mDXckdJeTCIA",
        "colab_type": "text"
      },
      "source": [
        "The \"if/elif\" statement is used to implement multiple conditions. Take a look at the following example:"
      ]
    },
    {
      "cell_type": "code",
      "metadata": {
        "id": "39dZOyNFTA3-",
        "colab_type": "code",
        "colab": {}
      },
      "source": [
        "age = 18\n",
        "\n",
        "if age >= 18:  \n",
        "    print(\"You are eligible for math college.\")\n",
        "elif age >= 14 and age < 18:  \n",
        "    print(\"You are eligible for math camp! Yaay!\")\n",
        "elif age < 14:  \n",
        "    print(\"Have fun with math. You can go to high school math camp when you are older!\")\n",
        "\n",
        "print(\"Thank you for checking.\")  \n"
      ],
      "execution_count": null,
      "outputs": []
    },
    {
      "cell_type": "markdown",
      "metadata": {
        "id": "AN4rXAOGTOz5",
        "colab_type": "text"
      },
      "source": [
        "## Loops\n",
        "\n",
        "Loops are a very important part of programming.\n",
        "\n",
        "Iteration statements, or more commonly known as loops, are used to repeatedly execute a piece of code multiple times. Consider if you have to print names of 100 persons on the screen. You will either have to write 100 print statements or you will have to use hundreds of escape characters in one print statements. If you have to perform this task repeatedly you have to write hundreds of thousands of tedious lines of code. A better way is to make use of loops.\n",
        "\n",
        "## FOR loop\n",
        "\n",
        "The FOR loop is used to iterate through a list or to iterate a fixed number of times. For example if we want to print the numbers from 1 to 10, we will use a for loop as below"
      ]
    },
    {
      "cell_type": "code",
      "metadata": {
        "id": "ozFI5dxNTmx9",
        "colab_type": "code",
        "colab": {}
      },
      "source": [
        "numbers = [1,2,3,4,5,6,7,8,9,10]\n",
        "\n",
        "for num in numbers:\n",
        "  print(num)"
      ],
      "execution_count": null,
      "outputs": []
    },
    {
      "cell_type": "markdown",
      "metadata": {
        "id": "GRh2rbzIUjsK",
        "colab_type": "text"
      },
      "source": [
        "What if we only wanted to print all even numbers in 1 to 10? We can use a for loop and a conditional statement"
      ]
    },
    {
      "cell_type": "code",
      "metadata": {
        "id": "7KYYpZ-mUfqc",
        "colab_type": "code",
        "colab": {}
      },
      "source": [
        "for num in numbers:\n",
        "  if num%2 == 0:\n",
        "    print(num)"
      ],
      "execution_count": null,
      "outputs": []
    },
    {
      "cell_type": "markdown",
      "metadata": {
        "id": "RguYVt-kU5u7",
        "colab_type": "text"
      },
      "source": [
        "## Exercise:\n",
        "\n",
        "Modify the code above to try printing all the numbers divisible by 3 from 1 to 10. \n",
        "How would we compute these numbers if we were now interested in all the numbers divisible by 3 from 1 to 100? The range() function will come in handy."
      ]
    },
    {
      "cell_type": "markdown",
      "metadata": {
        "id": "RuryXUr1VDy4",
        "colab_type": "text"
      },
      "source": [
        "## range()\n",
        "\n",
        "You may have noticed that we would need a list of numbers from 0 to 100 if we did it the way of the above excercise. Do we waste time writing [0,1,2,3,4,5,6,7,8, ....] up to 100? No. We use the range() function in python to iterate uniformly over a set of integers:"
      ]
    },
    {
      "cell_type": "code",
      "metadata": {
        "id": "BIwgDYrZUx0K",
        "colab_type": "code",
        "colab": {}
      },
      "source": [
        "for num in range(100):\n",
        "  if num % 3 ==0:\n",
        "    print(num)"
      ],
      "execution_count": null,
      "outputs": []
    },
    {
      "cell_type": "markdown",
      "metadata": {
        "id": "C9UpKcEhVsx2",
        "colab_type": "text"
      },
      "source": [
        "## The WHILE Loop\n",
        "The \"while loop\" is different from the \"for loop\" in that it keeps executing while a certain condition keeps returning true. After each iteration of the while loop, the condition is re-evaluated. When the condition finally returns false, the while loop stops executing and exits.\n",
        "\n",
        "Take a look at the following example:"
      ]
    },
    {
      "cell_type": "code",
      "metadata": {
        "id": "A-rXg3ZjVkSF",
        "colab_type": "code",
        "colab": {}
      },
      "source": [
        "x = 50\n",
        "\n",
        "while x > 0:  \n",
        "    print(x)\n",
        "    x = x - 5"
      ],
      "execution_count": null,
      "outputs": []
    },
    {
      "cell_type": "markdown",
      "metadata": {
        "id": "nDpzOob0V4Ye",
        "colab_type": "text"
      },
      "source": [
        "Here the loop will keep executing until the value of x becomes negative. The x variable has initially value of 50 and during each iteration we decrement it by 5. So, after 10 iterations the value will become negative and the loop will then stop executing.\n",
        "\n"
      ]
    },
    {
      "cell_type": "markdown",
      "metadata": {
        "id": "cGV0qjk5WEZD",
        "colab_type": "text"
      },
      "source": [
        "## Functions in Python\n",
        "Functions in programming are constructs that perform specific tasks. Functions come handy in scenarios when you have to perform a task multiple times throughout your code. Instead of re-writing the same functionality again and again, you can create a function that performs that task and then call that function wherever and whenever you want.\n",
        "\n",
        "Notice that there is a difference between doing a task repeatedly and doing a task multiple times. Loops are used where you have to perform a task repeatedly in sequence. Functions, on the other hand, are used when you have to perform the same task at different places throughout your code.\n",
        "\n",
        "Consider a scenario where you have to print a long statement to screen at different times. Instead, write a function that prints the statement you want and then call the function wherever you want to print the statement.\n",
        "\n",
        "Take a look at the following example:"
      ]
    },
    {
      "cell_type": "code",
      "metadata": {
        "id": "GqeTxyrDVyxW",
        "colab_type": "code",
        "colab": {}
      },
      "source": [
        "def displayWelcome():  \n",
        "    print(\"Welcome to Python. This article explains the basics of Python for absolute beginners!\")\n",
        "    return;\n",
        "\n",
        "displayWelcome()  \n",
        "print(\"Do something here\")  \n",
        "displayWelcome()  \n",
        "print(\"Do some other stuff here\")  "
      ],
      "execution_count": null,
      "outputs": []
    },
    {
      "cell_type": "markdown",
      "metadata": {
        "id": "JTOVD17MWOWY",
        "colab_type": "text"
      },
      "source": [
        "There are two things I'd like to point out in this code: the function definition and the function calls.\n",
        "\n",
        "Function definition refers to defining the task performed by the function. To define a function you have to use keyword def followed by the name of the function, which is displayWelcome in the above example. You can use any function name and by convention we give it a name to relate to what it is doing. The function name is followed by opening and closing parenthesis. The parenthesis are used to define parameters or any default input values, which we will see this in next example. After the parenthesis you have to use colon and on the indented next line the body of the function is defined. A function usually ends with a return statement, but it is not required if a value is not being returned.\n",
        "\n",
        "In the second part of our example code you'll see the function call. To call a function you simply have to write the function name followed by pair of parenthesis. If a function accepts parameters, you have to pass them inside parenthesis."
      ]
    },
    {
      "cell_type": "markdown",
      "metadata": {
        "id": "Yx6T_XUoWXn3",
        "colab_type": "text"
      },
      "source": [
        "## Functions with Parameters\n",
        "Now let's see how to pass parameters to a function. A parameter is just a variable that is given to the function from the caller.\n",
        "\n",
        "Let's write a function that adds two numbers passed to it as parameters in the parenthesis:\n",
        "\n"
      ]
    },
    {
      "cell_type": "code",
      "metadata": {
        "id": "T3VvMIWiWJaL",
        "colab_type": "code",
        "colab": {}
      },
      "source": [
        "def addNumbers(n1, n2):  \n",
        "    r = n1 + n2\n",
        "    return r;\n",
        "\n",
        "result = addNumbers(10, 20)  \n",
        "print(result)\n",
        "\n",
        "result = addNumbers(40, 60)  \n",
        "print(result)\n",
        "\n",
        "result = addNumbers(15, 25)  \n",
        "print(result)  "
      ],
      "execution_count": null,
      "outputs": []
    },
    {
      "cell_type": "markdown",
      "metadata": {
        "id": "lxyPhTxtWe5H",
        "colab_type": "text"
      },
      "source": [
        "In the above code we have the addNumbers function, which accepts two values from the function call. The values are stored in the n1 and n2 variables. Inside the function these values are added and stored in the r variable. The value in the r variable is then returned to the caller of the function.\n",
        "\n",
        "In the first call to addNumbers we pass two values, 10 and 20. Note that the order of parameters matter. The first value in the function call is stored in the first parameter in the function, and the second value is stored in the second parameter. Therefore 10 will be stored in n1 and 20 will be stored in n2. We then display the result of the function via the print statement. This function is called a total of three times, each time with different parameter values."
      ]
    },
    {
      "cell_type": "markdown",
      "metadata": {
        "id": "5GwhV94CWiGD",
        "colab_type": "text"
      },
      "source": [
        "## Exercise:\n",
        "\n",
        "Write a function to compare two numbers and print which number is bigger. Some parts of the function have already been written for you"
      ]
    },
    {
      "cell_type": "code",
      "metadata": {
        "id": "B1XD0OqJWfpB",
        "colab_type": "code",
        "colab": {}
      },
      "source": [
        "def whichIsBigger(number1, number2):\n",
        "  if #condition1:\n",
        "    print(number1, \" is bigger than \", number2)\n",
        "  elif #condtion2:\n",
        "    print(number1, \" is equal to \", number2)\n",
        "  elif #condtion3:\n",
        "    print(number1, \" is less than \", number2)"
      ],
      "execution_count": null,
      "outputs": []
    },
    {
      "cell_type": "code",
      "metadata": {
        "id": "tLLTxQKjXi3R",
        "colab_type": "code",
        "colab": {}
      },
      "source": [
        "whichIsBigger(4,5)"
      ],
      "execution_count": null,
      "outputs": []
    }
  ]
}